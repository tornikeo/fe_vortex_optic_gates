{
 "cells": [
  {
   "cell_type": "code",
   "execution_count": 2,
   "metadata": {},
   "outputs": [
    {
     "name": "stdout",
     "output_type": "stream",
     "text": [
      "3.4.0\n"
     ]
    }
   ],
   "source": [
    "%load_ext autoreload\n",
    "%autoreload 2\n",
    "\n",
    "import meep as mp\n",
    "import numpy as np\n",
    "import matplotlib as mpl\n",
    "import matplotlib.pyplot as plt\n",
    "print(mpl.__version__)"
   ]
  },
  {
   "cell_type": "markdown",
   "metadata": {},
   "source": [
    "## Fields in a waveguide"
   ]
  },
  {
   "cell_type": "markdown",
   "metadata": {},
   "source": [
    "1) ერთი ვორტიქსის სიგრძე, ანუ ჩვენს შემთხვევაში კვადრატის სიგრძე, ანუ h არის დაახლოვებით 10 ნანომეტრი.\n",
    "\n",
    "2) Q პარამეტრი დაივიწყეთ. რაც გვიწერია სტატიაში omega/c*Q ეს იგივეა რაც h/lambda. lambda კი თავის მხრივ სიხშირეზეა დამოკიდებული.\n",
    "თუ მაგალითად აიღებთ ჩვენს შემთხვევაში როგორც ჩვენის შედეგების ნახაზზეა, მაგალითად, განუზომელ პარამეტრს 0.53, ეს ნიშნავს, რომ h/lambda=0.53\n",
    "ანუ თუ ვიცით, რომ  h=10 ნმ, ესეიგი ლამბდა არის 10/0.53=18.8679 ნმ. შესაბამისად შეგიძლიათ აქედან გაიგოთ სიხშირე, თუმცა არ მგონია რომ\n",
    "სიხშირის გაგება გჭირდებოდეთ, მგონია რომ პერიოდი და ტალღის სიგრძე საკმარისია. \n",
    "\n",
    "ჯერ ნახეთ  h/lambda=0.53 და  h/lambda=0.58, სადაც ნამდვილად გასვლა გვაქვს. ამას იმიტომ ვამბობ, რომ არეკვლის სიმძლავრე დამოკიდებულია\n",
    "ფენების რაოდენომაზე (როგორც ფოტონიკებში გვქონდა, 5-ს რომ ვიღებდით), შესაბამისად მე უნდა დავთვალო თქვენ რამდენ ფენასაც აიღებთ იქ\n",
    "რამდენად ძლიერი იქნება არეკვლა. არეკვლა რომ იქნება ცხადია, თუმცა რამდენად ძლიერი, შეიძლება ნაწილი გავიდეს. \n",
    "რაც შეეხება h/lambda=0.53 და  h/lambda=0.58 აქ სრული გასვლაა და პრობლემა არ არის. "
   ]
  },
  {
   "cell_type": "markdown",
   "metadata": {},
   "source": [
    "მარტივია, მაგრამ მაინც იხილეთ ბმული ფაილი. ამ მარტივი გარდაქმნით პირდაპირ გამოდის 9.21 ფორმულა.\n",
    "ანუ დროით ორმაგი წარმოებულები ჩაწერილი ამ ფორმით. აქედან პირდაპი 9.21.\n",
    "თუ ახლა, უბრალოდ შესამოწმებლად, დაუშვებთ რომ ომეგა_დ=0 (გამმა_დ ყოველთვის ნულია ჩვენთან რადგანაც მილევა არ გვაქვს),\n",
    "მიიღებთ დროის ყველა ეტაპზე ცნობილ დამოკიდებულებას D და E ვექტორებს შორის, კერძოდ D=eps_0*eps*E.\n",
    "მოკლედ მე თითქმის დარწმუნებული ვარ, რომ თუ თქვენ სწორედ \n",
    "გამოიყენებთ ამ 9.21 ფორმულას, უნდა გადაიჭრას ჩვენი პრობლემა. ასევე ყურადღება მიაქციეთ სულ ბოლო წინადადებას\n",
    "გაყვითლებული რომ მაქვს, სადაც რეალურად წერია რა მონაცემებით უნდა გააკეთოთ \"აპდეითი\" ახალი მონაცემების.\n",
    "მოკლედ ერთი დამეტებითი D ვექტორის შემოტანა მოგიწევთ.\n"
   ]
  },
  {
   "cell_type": "code",
   "execution_count": 92,
   "metadata": {},
   "outputs": [],
   "source": [
    "# scale is nanometers\n",
    "eps = .5\n",
    "width = 1\n",
    "\n",
    "\n",
    "ratio = 0.53\n",
    "h = 10 # nanometers\n",
    "lamd = h / ratio # nanometers\n",
    "k_0 = 0.01 * (h/lamd) ** -2 # Used for eps hat calculation\n",
    "\n",
    "pml_size = np.ceil(lamd * 0.50)\n",
    "pml_sep = np.ceil(lamd * 0.08)\n",
    "pml_depth = pml_size + pml_sep # nm\n",
    "simulation_area = np.array([6 * 10, 13 * 10, 0])\n",
    "grid_size = simulation_area + [pml_depth * 2, pml_depth * 2, 0] # nm\n",
    "\n",
    "courant_factor = 0.5\n",
    "courant = courant_factor * (eps ** .5) / (2 ** .5) # no dim. \n",
    "\n",
    "\n",
    "# this is pixels per scale (nanometers here). \n",
    "# The vortices have size 10nmx10nm, and consist of \n",
    "# 6x6 cells. So, the resolution should be"
   ]
  },
  {
   "cell_type": "code",
   "execution_count": 93,
   "metadata": {},
   "outputs": [
    {
     "data": {
      "text/plain": [
       "0.9644001423994304"
      ]
     },
     "execution_count": 93,
     "metadata": {},
     "output_type": "execute_result"
    }
   ],
   "source": [
    "1 - k_0"
   ]
  },
  {
   "cell_type": "code",
   "execution_count": 4,
   "metadata": {},
   "outputs": [
    {
     "data": {
      "text/plain": [
       "array([ 84., 154.,   0.])"
      ]
     },
     "execution_count": 4,
     "metadata": {},
     "output_type": "execute_result"
    }
   ],
   "source": [
    "grid_size"
   ]
  },
  {
   "cell_type": "code",
   "execution_count": 5,
   "metadata": {},
   "outputs": [
    {
     "data": {
      "text/plain": [
       "0.996440014239943"
      ]
     },
     "execution_count": 5,
     "metadata": {},
     "output_type": "execute_result"
    }
   ],
   "source": [
    "1 - 0.001 *(h / lamd) ** (-2) # Might be wrong!"
   ]
  },
  {
   "cell_type": "code",
   "execution_count": 6,
   "metadata": {},
   "outputs": [
    {
     "data": {
      "text/plain": [
       "Vector3<84.0, 154.0, 0.0>"
      ]
     },
     "execution_count": 6,
     "metadata": {},
     "output_type": "execute_result"
    }
   ],
   "source": [
    "cell = mp.Vector3(*grid_size)\n",
    "cell # nanometers"
   ]
  },
  {
   "cell_type": "code",
   "execution_count": 102,
   "metadata": {},
   "outputs": [
    {
     "data": {
      "text/plain": [
       "Text(0.5, 1.0, 'Value of $\\\\phi$ in degrees in a vortex')"
      ]
     },
     "execution_count": 102,
     "metadata": {},
     "output_type": "execute_result"
    },
    {
     "data": {
      "image/png": "[encoded data removed]",
      "text/plain": [
       "<Figure size 432x288 with 2 Axes>"
      ]
     },
     "metadata": {
      "needs_background": "light"
     },
     "output_type": "display_data"
    }
   ],
   "source": [
    "vortex = [\n",
    "    ['v'] + ['<'] * 5,\n",
    "    ['v'] * 2 + ['<'] * 3 + ['^'],\n",
    "    ['v'] * 3 + ['<'] + ['^'] * 2,\n",
    "    ['v'] * 2 + ['>'] + ['^'] + ['^'] * 2,\n",
    "    ['v'] * 1 + ['>'] * 3 + ['^'] * 2,\n",
    "    ['>'] * 5 + ['^'],\n",
    "]\n",
    "\n",
    "from math import pi\n",
    "vortex = np.array(vortex,)\n",
    "tmp = np.zeros(vortex.shape)\n",
    "tmp[vortex == '>'] = 0\n",
    "tmp[vortex == '^'] = pi * 0.5\n",
    "tmp[vortex == '<'] = pi\n",
    "tmp[vortex == 'v'] = pi * 1.5\n",
    "vortex = tmp.astype('float32')\n",
    "vortex\n",
    "\n",
    "\n",
    "plt.imshow(vortex * 180 / pi)\n",
    "cbar = plt.colorbar()\n",
    "cbar.set_ticks([0, 90, 180, 270])\n",
    "plt.title('Value of $\\phi$ in degrees in a vortex')"
   ]
  },
  {
   "cell_type": "code",
   "execution_count": 8,
   "metadata": {},
   "outputs": [
    {
     "data": {
      "text/plain": [
       "<AxesSubplot:>"
      ]
     },
     "execution_count": 8,
     "metadata": {},
     "output_type": "execute_result"
    },
    {
     "data": {
      "image/png": "[encoded data removed]",
      "text/plain": [
       "<Figure size 432x288 with 2 Axes>"
      ]
     },
     "metadata": {
      "needs_background": "light"
     },
     "output_type": "display_data"
    }
   ],
   "source": [
    "from itertools import product\n",
    "import cv2 \n",
    "\n",
    "carr = np.zeros((100,100))\n",
    "arr = np.zeros((6,6))\n",
    "d = 3\n",
    "for val in [pi * 1.5, pi, pi * .5, 0]:\n",
    "    for x,y in product(range(6), range(6)):\n",
    "        if y - d >= abs(x - d): # TOP\n",
    "            arr[x,y] = val\n",
    "    arr = np.rot90(arr)\n",
    "import seaborn as sns\n",
    "xarr = cv2.resize(arr, dsize=carr.shape, interpolation=cv2.INTER_NEAREST)\n",
    "sns.heatmap(xarr)"
   ]
  },
  {
   "cell_type": "code",
   "execution_count": 61,
   "metadata": {},
   "outputs": [
    {
     "name": "stdout",
     "output_type": "stream",
     "text": [
      "0\n",
      "2\n",
      "2\n",
      "4\n",
      "4\n",
      "6\n",
      "6\n",
      "8\n",
      "8\n",
      "10\n"
     ]
    }
   ],
   "source": [
    "\n",
    "import math\n",
    "def round_multiple(x,base):\n",
    "    return base * round(x / base + 1e-8)\n",
    "\n",
    "for i in range(10):\n",
    "    print(round_multiple(i,2))"
   ]
  },
  {
   "cell_type": "code",
   "execution_count": 113,
   "metadata": {},
   "outputs": [],
   "source": [
    "def round_nearest(num: float, to: float) -> float:\n",
    "    return round(num / to) * to  # Credited to Paul H.\n",
    "\n",
    "def round_down(num: float, to: float) -> float:\n",
    "    nearest = round_nearest(num, to)\n",
    "    if math.isclose(num, nearest): return num\n",
    "    return nearest if nearest < num else nearest - to\n",
    "\n",
    "def round_up(num: float, to: float) -> float:\n",
    "    nearest = round_nearest(num, to)\n",
    "    if math.isclose(num, nearest): return num\n",
    "    return nearest if nearest > num else nearest + to"
   ]
  },
  {
   "cell_type": "code",
   "execution_count": 143,
   "metadata": {},
   "outputs": [
    {
     "ename": "ValueError",
     "evalue": "object too deep for desired array",
     "output_type": "error",
     "traceback": [
      "\u001b[0;31m---------------------------------------------------------------------------\u001b[0m",
      "\u001b[0;31mValueError\u001b[0m                                Traceback (most recent call last)",
      "\u001b[0;32m/tmp/ipykernel_356304/1349741634.py\u001b[0m in \u001b[0;36m<module>\u001b[0;34m\u001b[0m\n\u001b[1;32m      1\u001b[0m \u001b[0ma\u001b[0m \u001b[0;34m=\u001b[0m \u001b[0mbins\u001b[0m\u001b[0;34m[\u001b[0m\u001b[0;34m:\u001b[0m\u001b[0;34m,\u001b[0m\u001b[0;36m0\u001b[0m\u001b[0;34m]\u001b[0m\u001b[0;34m\u001b[0m\u001b[0;34m\u001b[0m\u001b[0m\n\u001b[0;32m----> 2\u001b[0;31m \u001b[0mnp\u001b[0m\u001b[0;34m.\u001b[0m\u001b[0mdigitize\u001b[0m\u001b[0;34m(\u001b[0m\u001b[0mnp\u001b[0m\u001b[0;34m.\u001b[0m\u001b[0marray\u001b[0m\u001b[0;34m(\u001b[0m\u001b[0;34m[\u001b[0m\u001b[0;34m-\u001b[0m\u001b[0;36m5\u001b[0m\u001b[0;34m,\u001b[0m\u001b[0;34m-\u001b[0m\u001b[0;36m5\u001b[0m\u001b[0;34m]\u001b[0m\u001b[0;34m)\u001b[0m\u001b[0;34m,\u001b[0m \u001b[0mbins\u001b[0m\u001b[0;34m)\u001b[0m\u001b[0;34m\u001b[0m\u001b[0;34m\u001b[0m\u001b[0m\n\u001b[0m",
      "\u001b[0;32m<__array_function__ internals>\u001b[0m in \u001b[0;36mdigitize\u001b[0;34m(*args, **kwargs)\u001b[0m\n",
      "\u001b[0;32m~/.anaconda3/envs/vortex/lib/python3.7/site-packages/numpy/lib/function_base.py\u001b[0m in \u001b[0;36mdigitize\u001b[0;34m(x, bins, right)\u001b[0m\n\u001b[1;32m   4920\u001b[0m         \u001b[0;32mraise\u001b[0m \u001b[0mTypeError\u001b[0m\u001b[0;34m(\u001b[0m\u001b[0;34m\"x may not be complex\"\u001b[0m\u001b[0;34m)\u001b[0m\u001b[0;34m\u001b[0m\u001b[0;34m\u001b[0m\u001b[0m\n\u001b[1;32m   4921\u001b[0m \u001b[0;34m\u001b[0m\u001b[0m\n\u001b[0;32m-> 4922\u001b[0;31m     \u001b[0mmono\u001b[0m \u001b[0;34m=\u001b[0m \u001b[0m_monotonicity\u001b[0m\u001b[0;34m(\u001b[0m\u001b[0mbins\u001b[0m\u001b[0;34m)\u001b[0m\u001b[0;34m\u001b[0m\u001b[0;34m\u001b[0m\u001b[0m\n\u001b[0m\u001b[1;32m   4923\u001b[0m     \u001b[0;32mif\u001b[0m \u001b[0mmono\u001b[0m \u001b[0;34m==\u001b[0m \u001b[0;36m0\u001b[0m\u001b[0;34m:\u001b[0m\u001b[0;34m\u001b[0m\u001b[0;34m\u001b[0m\u001b[0m\n\u001b[1;32m   4924\u001b[0m         \u001b[0;32mraise\u001b[0m \u001b[0mValueError\u001b[0m\u001b[0;34m(\u001b[0m\u001b[0;34m\"bins must be monotonically increasing or decreasing\"\u001b[0m\u001b[0;34m)\u001b[0m\u001b[0;34m\u001b[0m\u001b[0;34m\u001b[0m\u001b[0m\n",
      "\u001b[0;31mValueError\u001b[0m: object too deep for desired array"
     ]
    }
   ],
   "source": [
    "a = bins[:,0]\n",
    "np.digitize(np.array([-5,-5]), bins)"
   ]
  },
  {
   "cell_type": "code",
   "execution_count": 128,
   "metadata": {},
   "outputs": [
    {
     "data": {
      "image/png": "[encoded data removed]",
      "text/plain": [
       "<Figure size 1296x504 with 4 Axes>"
      ]
     },
     "metadata": {
      "needs_background": "light"
     },
     "output_type": "display_data"
    }
   ],
   "source": [
    "center = mp.Vector3(0,0,0)\n",
    "size = mp.Vector3(10,10,0)\n",
    "bins = np.linspace([-size.x/2,-size.y/2],[+size.x/2, +size.y/2],6)\n",
    "\n",
    "\n",
    "def eps_function(p):\n",
    "    p =  p - center\n",
    "    x,y = p.x,p.y\n",
    "    sx, sy = size.x, size.y\n",
    "    # dx,dy = size.x / 6, size.y / 6\n",
    "    x = np.linspace(-sx,sx,6)\n",
    "    # x,y = round_multiple(x,max_x/3),round_multiple(y,max_y/3), \n",
    "\n",
    "    # angle = np.arctan2(y, x) * 180 / np.pi \n",
    "    # angle = round_multiple(angle, pi/2)\n",
    "\n",
    "    eps_1 = x#1 - k_0 * np.sin(angle) ** 2 # first eps (for Ex)\n",
    "    eps_3 = y#1 - k_0 * np.cos(angle) ** 2 # middle eps (for Ey)\n",
    "    eps_4 = 1 # last eps (For Ez)\n",
    "    return mp.Medium(epsilon_diag=(eps_1, eps_3, eps_4))\n",
    "    # return mp.Medium(epsilon_diag=(2, 2, 2))\n",
    "\n",
    "res = 30\n",
    "xx,yy = np.meshgrid(\n",
    "    np.linspace(-5,5,res),\n",
    "    np.linspace(5,-5,res),\n",
    "    indexing='xy'\n",
    ")\n",
    "out = np.zeros((res,res,3))\n",
    "for i in range(res):\n",
    "    for j in range(res):\n",
    "        loc = mp.Vector3(xx[i,j],yy[i,j])\n",
    "        out[i,j,:] = np.array(eps_function(loc).epsilon_diag)\n",
    "\n",
    "\n",
    "plt.figure(figsize=(18,7))\n",
    "for i in range(2):\n",
    "    plt.subplot(1,2,i + 1)\n",
    "    # plt.imshow(out[...,i])\n",
    "    sns.heatmap(out[...,i], )#annot=True, fmt=\".1e\", annot_kws={\"fontsize\":4})\n",
    "    # plt.colorbar()"
   ]
  },
  {
   "cell_type": "code",
   "execution_count": 125,
   "metadata": {},
   "outputs": [
    {
     "data": {
      "text/plain": [
       "(30, 30, 3)"
      ]
     },
     "execution_count": 125,
     "metadata": {},
     "output_type": "execute_result"
    }
   ],
   "source": [
    "out.shape"
   ]
  },
  {
   "cell_type": "code",
   "execution_count": 89,
   "metadata": {},
   "outputs": [
    {
     "data": {
      "text/plain": [
       "array([-135.,    0.,   45.])"
      ]
     },
     "execution_count": 89,
     "metadata": {},
     "output_type": "execute_result"
    }
   ],
   "source": [
    "np.arctan2(\n",
    "    np.linspace(-1,1,3),\n",
    "    np.linspace(-1,1,3),\n",
    ") * 180 / pi"
   ]
  },
  {
   "cell_type": "code",
   "execution_count": 25,
   "metadata": {},
   "outputs": [
    {
     "data": {
      "text/plain": [
       "array([1., 2., 3.])"
      ]
     },
     "execution_count": 25,
     "metadata": {},
     "output_type": "execute_result"
    }
   ],
   "source": [
    "np.array(mp.Medium(epsilon_diag=(1,2,3)).epsilon_diag)\n"
   ]
  },
  {
   "cell_type": "code",
   "execution_count": 10,
   "metadata": {},
   "outputs": [
    {
     "name": "stdout",
     "output_type": "stream",
     "text": [
      "154.0 84.0\n"
     ]
    },
    {
     "data": {
      "application/vnd.jupyter.widget-view+json": {
       "model_id": "5710deb84212421289b6d5af82c55043",
       "version_major": 2,
       "version_minor": 0
      },
      "text/plain": [
       "FloatProgress(value=0.0, description='0% done ', max=10.0)"
      ]
     },
     "metadata": {},
     "output_type": "display_data"
    },
    {
     "data": {
      "image/png": "[encoded data removed]",
      "text/plain": [
       "<Figure size 1200x800 with 1 Axes>"
      ]
     },
     "metadata": {
      "needs_background": "light"
     },
     "output_type": "display_data"
    },
    {
     "ename": "NameError",
     "evalue": "name 'STOP' is not defined",
     "output_type": "error",
     "traceback": [
      "\u001b[0;31m---------------------------------------------------------------------------\u001b[0m",
      "\u001b[0;31mNameError\u001b[0m                                 Traceback (most recent call last)",
      "\u001b[0;32m/tmp/ipykernel_356304/2307140044.py\u001b[0m in \u001b[0;36m<module>\u001b[0;34m\u001b[0m\n\u001b[1;32m     94\u001b[0m \u001b[0;34m\u001b[0m\u001b[0m\n\u001b[1;32m     95\u001b[0m \u001b[0mplt\u001b[0m\u001b[0;34m.\u001b[0m\u001b[0mshow\u001b[0m\u001b[0;34m(\u001b[0m\u001b[0;34m)\u001b[0m\u001b[0;34m\u001b[0m\u001b[0;34m\u001b[0m\u001b[0m\n\u001b[0;32m---> 96\u001b[0;31m \u001b[0mSTOP\u001b[0m\u001b[0;34m\u001b[0m\u001b[0;34m\u001b[0m\u001b[0m\n\u001b[0m",
      "\u001b[0;31mNameError\u001b[0m: name 'STOP' is not defined"
     ]
    }
   ],
   "source": [
    "from functools import partial\n",
    "mp.verbosity.set(0)\n",
    "# for \n",
    "geometry = []\n",
    "W,H, _ = grid_size\n",
    "D = pml_depth\n",
    "print(H,W)\n",
    "\n",
    "sources = [\n",
    "    mp.Source(\n",
    "        mp.ContinuousSource(\n",
    "            wavelength=lamd,\n",
    "            ),\n",
    "        component=mp.Hz, #  NOTE: Direction matters!\n",
    "        size=mp.Vector3(W - D * 2 , 0, 0),\n",
    "        center=mp.Vector3(0, H/2 - D - h * .5, 0)\n",
    "    )\n",
    "]\n",
    "\n",
    "\n",
    "# for y in np.linspace(\n",
    "#     start = H/2-D-h*1.5,\n",
    "#     stop = -(H/2-D-h*1.5),\n",
    "#     num = 6, endpoint=True):\n",
    "#     for x in np.linspace(\n",
    "#         start = W/2-D-h*0.5,\n",
    "#         stop = -(W/2-D-h*0.5),\n",
    "#         num = 6, \n",
    "#         endpoint=True):\n",
    "#         center = mp.Vector3(0,0,0)\n",
    "#         size = mp.Vector3(10,10,0)\n",
    "#         geometry.append(\n",
    "#             mp.Block(\n",
    "#                 size=size,\n",
    "#                 center=center,\n",
    "#                 # material=partial(eps_function, center=center, size=size),\n",
    "#                 material = mp.Medium(epsilon_diag=mp.Vector3(2,2,1)),\n",
    "#             )\n",
    "#         )\n",
    "#         break\n",
    "#     break\n",
    "\n",
    "\n",
    "center = mp.Vector3(0,0,0)\n",
    "size = mp.Vector3(10,10,0)\n",
    "def eps_function(p):\n",
    "    # x,y = p.x, p.y\n",
    "    # print(p, center, size)\n",
    "    # rot = np.arctan2(y,x)\n",
    "    # if \n",
    "    dp = p - center\n",
    "    angle = \n",
    "    eps_1 = 1 - k_0 * np.sin(angle) ** 2 # first eps (for Ex)\n",
    "    eps_3 = 1 - k_0 * np.cos(angle) ** 2 # middle eps (for Ey)\n",
    "    eps_4 = 1 # last eps (For Ez)\n",
    "    return mp.Medium(epsilon_diag=(eps_1, eps_3, eps_4))\n",
    "    # return mp.Medium(epsilon_diag=(2, 2, 2))\n",
    "eps_function.do_averaging = False\n",
    "\n",
    "geometry.append(\n",
    "    mp.Block(\n",
    "        size=size,\n",
    "        center=center,\n",
    "        # material=partial(eps_function, center=center, size=size),\n",
    "        material=eps_function,\n",
    "        # material = mp.Medium(epsilon_diag=mp.Vector3(2,2,1)),\n",
    "    )\n",
    ")\n",
    "resolution = np.ceil(h * 1 / 6)\n",
    "\n",
    "\n",
    "\n",
    "pml_layers = [mp.PML(pml_size)]\n",
    "sim = mp.Simulation(\n",
    "    cell_size=cell,\n",
    "    boundary_layers=pml_layers,\n",
    "    geometry=geometry,\n",
    "    geometry_center=mp.Vector3(0,0,0),\n",
    "    sources=sources,\n",
    "    resolution=resolution,\n",
    "    Courant=courant,\n",
    "    eps_averaging=True,\n",
    ")\n",
    "sim.run(until=10)\n",
    "\n",
    "plt.figure(dpi=200)\n",
    "plt.subplot(121)\n",
    "sim.plot2D()\n",
    "\n",
    "# x = sim.get_efield().copy().sum(-1)\n",
    "# plt.subplot(122)\n",
    "# x = sim.get_epsilon().copy()\n",
    "# x[int(resolution * pml_depth), :] += .3\n",
    "# x[:,int(resolution * pml_depth),] += .3\n",
    "# plt.imshow(x)\n",
    "# plt.colorbar()\n",
    "\n",
    "plt.show()\n",
    "STOP"
   ]
  },
  {
   "cell_type": "code",
   "execution_count": null,
   "metadata": {},
   "outputs": [
    {
     "data": {
      "text/plain": [
       "Vector3<-84.0, -154.0, 0.0>"
      ]
     },
     "execution_count": 17,
     "metadata": {},
     "output_type": "execute_result"
    }
   ],
   "source": [
    "mp.Vector3()-cell"
   ]
  },
  {
   "cell_type": "code",
   "execution_count": null,
   "metadata": {},
   "outputs": [
    {
     "name": "stderr",
     "output_type": "stream",
     "text": [
      "Warning: grid volume is not an integer number of pixels; cell size will be rounded to nearest pixel.\n"
     ]
    },
    {
     "name": "stdout",
     "output_type": "stream",
     "text": [
      "     block, center = (25,50,0)\n",
      "          size (10,10,1e+20)\n",
      "          axes (1,0,0), (0,1,0), (0,0,1)\n",
      "          dielectric constant epsilon diagonal = (0.5,0.5,0.5)\n",
      "     block, center = (15,50,0)\n",
      "          size (10,10,1e+20)\n",
      "          axes (1,0,0), (0,1,0), (0,0,1)\n",
      "          dielectric constant epsilon diagonal = (0.5,0.5,0.5)\n",
      "     block, center = (5,50,0)\n",
      "          size (10,10,1e+20)\n",
      "          axes (1,0,0), (0,1,0), (0,0,1)\n",
      "          dielectric constant epsilon diagonal = (0.5,0.5,0.5)\n",
      "     block, center = (-5,50,0)\n",
      "          size (10,10,1e+20)\n",
      "          axes (1,0,0), (0,1,0), (0,0,1)\n",
      "          dielectric constant epsilon diagonal = (0.5,0.5,0.5)\n",
      "     block, center = (-15,50,0)\n",
      "          size (10,10,1e+20)\n",
      "          axes (1,0,0), (0,1,0), (0,0,1)\n",
      "          dielectric constant epsilon diagonal = (0.5,0.5,0.5)\n",
      "     block, center = (-25,50,0)\n",
      "          size (10,10,1e+20)\n",
      "          axes (1,0,0), (0,1,0), (0,0,1)\n",
      "          dielectric constant epsilon diagonal = (0.5,0.5,0.5)\n",
      "     block, center = (25,30,0)\n",
      "          size (10,10,1e+20)\n",
      "          axes (1,0,0), (0,1,0), (0,0,1)\n",
      "          dielectric constant epsilon diagonal = (0.5,0.5,0.5)\n",
      "     block, center = (15,30,0)\n",
      "          size (10,10,1e+20)\n",
      "          axes (1,0,0), (0,1,0), (0,0,1)\n",
      "          dielectric constant epsilon diagonal = (0.5,0.5,0.5)\n",
      "     block, center = (5,30,0)\n",
      "          size (10,10,1e+20)\n",
      "          axes (1,0,0), (0,1,0), (0,0,1)\n",
      "          dielectric constant epsilon diagonal = (0.5,0.5,0.5)\n",
      "     block, center = (-5,30,0)\n",
      "          size (10,10,1e+20)\n",
      "          axes (1,0,0), (0,1,0), (0,0,1)\n",
      "          dielectric constant epsilon diagonal = (0.5,0.5,0.5)\n",
      "     ...(+ 26 objects not shown)...\n"
     ]
    },
    {
     "data": {
      "image/png": "[encoded data removed]",
      "text/plain": [
       "<Figure size 600x400 with 1 Axes>"
      ]
     },
     "metadata": {
      "needs_background": "light"
     },
     "output_type": "display_data"
    }
   ],
   "source": [
    "plt.figure(dpi=100)\n",
    "sim.plot2D(fields=mp.Hz)\n",
    "plt.show()"
   ]
  },
  {
   "cell_type": "markdown",
   "metadata": {},
   "source": [
    "## Animation"
   ]
  },
  {
   "cell_type": "code",
   "execution_count": null,
   "metadata": {},
   "outputs": [],
   "source": [
    "sim.reset_meep()\n",
    "f = plt.figure()\n",
    "anim = mp.Animate2D(sim, fields=mp.Hz, f=f, realtime=False, normalize=True)\n",
    "plt.close()"
   ]
  },
  {
   "cell_type": "code",
   "execution_count": null,
   "metadata": {},
   "outputs": [
    {
     "name": "stderr",
     "output_type": "stream",
     "text": [
      "Warning: grid volume is not an integer number of pixels; cell size will be rounded to nearest pixel.\n"
     ]
    },
    {
     "name": "stdout",
     "output_type": "stream",
     "text": [
      "-----------\n",
      "Initializing structure...\n",
      "time for choose_chunkdivision = 0.000255823 s\n",
      "Working in 2D dimensions.\n",
      "Computational cell is 81.6 x 151.8 x 0 with resolution 1.66667\n",
      "     block, center = (25,50,0)\n",
      "          size (10,10,1e+20)\n",
      "          axes (1,0,0), (0,1,0), (0,0,1)\n",
      "          dielectric constant epsilon diagonal = (0.5,0.5,0.5)\n",
      "     block, center = (15,50,0)\n",
      "          size (10,10,1e+20)\n",
      "          axes (1,0,0), (0,1,0), (0,0,1)\n",
      "          dielectric constant epsilon diagonal = (0.5,0.5,0.5)\n",
      "     block, center = (5,50,0)\n",
      "          size (10,10,1e+20)\n",
      "          axes (1,0,0), (0,1,0), (0,0,1)\n",
      "          dielectric constant epsilon diagonal = (0.5,0.5,0.5)\n",
      "     block, center = (-5,50,0)\n",
      "          size (10,10,1e+20)\n",
      "          axes (1,0,0), (0,1,0), (0,0,1)\n",
      "          dielectric constant epsilon diagonal = (0.5,0.5,0.5)\n",
      "     block, center = (-15,50,0)\n",
      "          size (10,10,1e+20)\n",
      "          axes (1,0,0), (0,1,0), (0,0,1)\n",
      "          dielectric constant epsilon diagonal = (0.5,0.5,0.5)\n",
      "     block, center = (-25,50,0)\n",
      "          size (10,10,1e+20)\n",
      "          axes (1,0,0), (0,1,0), (0,0,1)\n",
      "          dielectric constant epsilon diagonal = (0.5,0.5,0.5)\n",
      "     block, center = (25,30,0)\n",
      "          size (10,10,1e+20)\n",
      "          axes (1,0,0), (0,1,0), (0,0,1)\n",
      "          dielectric constant epsilon diagonal = (0.5,0.5,0.5)\n",
      "     block, center = (15,30,0)\n",
      "          size (10,10,1e+20)\n",
      "          axes (1,0,0), (0,1,0), (0,0,1)\n",
      "          dielectric constant epsilon diagonal = (0.5,0.5,0.5)\n",
      "     block, center = (5,30,0)\n",
      "          size (10,10,1e+20)\n",
      "          axes (1,0,0), (0,1,0), (0,0,1)\n",
      "          dielectric constant epsilon diagonal = (0.5,0.5,0.5)\n",
      "     block, center = (-5,30,0)\n",
      "          size (10,10,1e+20)\n",
      "          axes (1,0,0), (0,1,0), (0,0,1)\n",
      "          dielectric constant epsilon diagonal = (0.5,0.5,0.5)\n",
      "     ...(+ 26 objects not shown)...\n",
      "time for set_epsilon = 0.096679 s\n",
      "-----------\n"
     ]
    },
    {
     "data": {
      "application/vnd.jupyter.widget-view+json": {
       "model_id": "03c741eef0534f1bb73dc6e9a0ac8764",
       "version_major": 2,
       "version_minor": 0
      },
      "text/plain": [
       "FloatProgress(value=0.0, description='0% done ', max=250.0)"
      ]
     },
     "metadata": {},
     "output_type": "display_data"
    },
    {
     "name": "stderr",
     "output_type": "stream",
     "text": [
      "Warning: grid volume is not an integer number of pixels; cell size will be rounded to nearest pixel.\n"
     ]
    },
    {
     "name": "stdout",
     "output_type": "stream",
     "text": [
      "     block, center = (25,50,0)\n",
      "          size (10,10,1e+20)\n",
      "          axes (1,0,0), (0,1,0), (0,0,1)\n",
      "          dielectric constant epsilon diagonal = (0.5,0.5,0.5)\n",
      "     block, center = (15,50,0)\n",
      "          size (10,10,1e+20)\n",
      "          axes (1,0,0), (0,1,0), (0,0,1)\n",
      "          dielectric constant epsilon diagonal = (0.5,0.5,0.5)\n",
      "     block, center = (5,50,0)\n",
      "          size (10,10,1e+20)\n",
      "          axes (1,0,0), (0,1,0), (0,0,1)\n",
      "          dielectric constant epsilon diagonal = (0.5,0.5,0.5)\n",
      "     block, center = (-5,50,0)\n",
      "          size (10,10,1e+20)\n",
      "          axes (1,0,0), (0,1,0), (0,0,1)\n",
      "          dielectric constant epsilon diagonal = (0.5,0.5,0.5)\n",
      "     block, center = (-15,50,0)\n",
      "          size (10,10,1e+20)\n",
      "          axes (1,0,0), (0,1,0), (0,0,1)\n",
      "          dielectric constant epsilon diagonal = (0.5,0.5,0.5)\n",
      "     block, center = (-25,50,0)\n",
      "          size (10,10,1e+20)\n",
      "          axes (1,0,0), (0,1,0), (0,0,1)\n",
      "          dielectric constant epsilon diagonal = (0.5,0.5,0.5)\n",
      "     block, center = (25,30,0)\n",
      "          size (10,10,1e+20)\n",
      "          axes (1,0,0), (0,1,0), (0,0,1)\n",
      "          dielectric constant epsilon diagonal = (0.5,0.5,0.5)\n",
      "     block, center = (15,30,0)\n",
      "          size (10,10,1e+20)\n",
      "          axes (1,0,0), (0,1,0), (0,0,1)\n",
      "          dielectric constant epsilon diagonal = (0.5,0.5,0.5)\n",
      "     block, center = (5,30,0)\n",
      "          size (10,10,1e+20)\n",
      "          axes (1,0,0), (0,1,0), (0,0,1)\n",
      "          dielectric constant epsilon diagonal = (0.5,0.5,0.5)\n",
      "     block, center = (-5,30,0)\n",
      "          size (10,10,1e+20)\n",
      "          axes (1,0,0), (0,1,0), (0,0,1)\n",
      "          dielectric constant epsilon diagonal = (0.5,0.5,0.5)\n",
      "     ...(+ 26 objects not shown)...\n",
      "Normalizing field data...\n",
      "run 1 finished at t = 250.04999999999998 (1667 timesteps)\n"
     ]
    }
   ],
   "source": [
    "sim.run(mp.at_every(1,anim), until=250)\n",
    "plt.close()"
   ]
  },
  {
   "cell_type": "code",
   "execution_count": null,
   "metadata": {},
   "outputs": [
    {
     "name": "stdout",
     "output_type": "stream",
     "text": [
      "Generating MP4...\n"
     ]
    }
   ],
   "source": [
    "filename = \"media/low_eps.mp4\"\n",
    "anim.to_mp4(10,filename)"
   ]
  },
  {
   "cell_type": "code",
   "execution_count": null,
   "metadata": {},
   "outputs": [
    {
     "data": {
      "text/html": [
       "<video src=\"media/low_eps.mp4\" controls  >\n",
       "      Your browser does not support the <code>video</code> element.\n",
       "    </video>"
      ],
      "text/plain": [
       "<IPython.core.display.Video object>"
      ]
     },
     "execution_count": 49,
     "metadata": {},
     "output_type": "execute_result"
    }
   ],
   "source": [
    "from IPython.display import Video\n",
    "Video(filename)"
   ]
  },
  {
   "cell_type": "code",
   "execution_count": null,
   "metadata": {},
   "outputs": [],
   "source": []
  }
 ],
 "metadata": {
  "interpreter": {
   "hash": "9cfbc390c6844f45660690bd63ef4f0efbd226f4dd440192fa58bef153629bd3"
  },
  "kernelspec": {
   "display_name": "Python 3.7.13 ('vortex')",
   "language": "python",
   "name": "python3"
  },
  "language_info": {
   "codemirror_mode": {
    "name": "ipython",
    "version": 3
   },
   "file_extension": ".py",
   "mimetype": "text/x-python",
   "name": "python",
   "nbconvert_exporter": "python",
   "pygments_lexer": "ipython3",
   "version": "3.7.13"
  },
  "orig_nbformat": 4
 },
 "nbformat": 4,
 "nbformat_minor": 2
}
