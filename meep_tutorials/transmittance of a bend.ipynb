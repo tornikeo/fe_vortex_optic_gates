{
 "cells": [
  {
   "cell_type": "code",
   "execution_count": 1,
   "id": "b303210b",
   "metadata": {},
   "outputs": [],
   "source": [
    "import meep as mp\n",
    "import numpy as np\n",
    "import matplotlib.pyplot as plt\n",
    "\n",
    "resolution = 10  # pixels/um\n",
    "\n",
    "sx = 16  # size of cell in X direction\n",
    "sy = 32  # size of cell in Y direction\n",
    "cell = mp.Vector3(sx, sy, 0)\n",
    "\n",
    "dpml = 1.0\n",
    "pml_layers = [mp.PML(dpml)]"
   ]
  },
  {
   "cell_type": "code",
   "execution_count": 2,
   "id": "d486e88b",
   "metadata": {},
   "outputs": [],
   "source": [
    "pad = 4 # Pad distance between waveguide and cell edge\n",
    "w = 1 # width of waveguide"
   ]
  },
  {
   "cell_type": "code",
   "execution_count": 3,
   "id": "b6726112",
   "metadata": {},
   "outputs": [],
   "source": [
    "wvg_xcen = .5 * (sx - w - 2 * pad) # x center of horiz wvg\n",
    "wvg_ycen = -.5 * (sy - w - 2 * pad) # y center of vert wvg"
   ]
  },
  {
   "cell_type": "code",
   "execution_count": 4,
   "id": "bb72c4b4",
   "metadata": {},
   "outputs": [
    {
     "data": {
      "text/plain": [
       "(3.5, -11.5)"
      ]
     },
     "execution_count": 4,
     "metadata": {},
     "output_type": "execute_result"
    }
   ],
   "source": [
    "wvg_xcen, wvg_ycen"
   ]
  },
  {
   "cell_type": "code",
   "execution_count": 5,
   "id": "0f930010",
   "metadata": {},
   "outputs": [],
   "source": [
    "geometry = [\n",
    "    mp.Block(\n",
    "        size=mp.Vector3(mp.inf, w, mp.inf),\n",
    "        center=mp.Vector3(0,wvg_ycen,0),\n",
    "        material=mp.Medium(epsilon=12)\n",
    "    )\n",
    "]"
   ]
  },
  {
   "cell_type": "code",
   "execution_count": 6,
   "id": "4b15a956",
   "metadata": {},
   "outputs": [],
   "source": [
    "fcen = .15\n",
    "# fcen = .1\n",
    "# fcen = .06\n",
    "df = .1\n",
    "sources = [\n",
    "    mp.Source(\n",
    "        mp.GaussianSource(fcen, fwidth=df),\n",
    "        component=mp.Ez,\n",
    "        center=mp.Vector3(-0.5 * sx + dpml, wvg_ycen, 0),\n",
    "        size=mp.Vector3(0,w,0)\n",
    "    )\n",
    "]"
   ]
  },
  {
   "cell_type": "code",
   "execution_count": 7,
   "id": "54514d7c",
   "metadata": {},
   "outputs": [
    {
     "name": "stdout",
     "output_type": "stream",
     "text": [
      "     block, center = (0,-11.5,0)\n",
      "          size (1e+20,1,1e+20)\n",
      "          axes (1,0,0), (0,1,0), (0,0,1)\n",
      "          dielectric constant epsilon diagonal = (12,12,12)\n"
     ]
    },
    {
     "name": "stderr",
     "output_type": "stream",
     "text": [
      "/home/tornikeo/miniconda3/envs/vortex/lib/python3.8/site-packages/numpy/core/getlimits.py:500: UserWarning: The value of the smallest subnormal for <class 'numpy.float64'> type is zero.\n",
      "  setattr(self, word, getattr(machar, word).flat[0])\n",
      "/home/tornikeo/miniconda3/envs/vortex/lib/python3.8/site-packages/numpy/core/getlimits.py:89: UserWarning: The value of the smallest subnormal for <class 'numpy.float64'> type is zero.\n",
      "  return self._float_to_str(self.smallest_subnormal)\n"
     ]
    },
    {
     "data": {
      "image/png": "[encoded data removed]",
      "text/plain": [
       "<Figure size 960x720 with 1 Axes>"
      ]
     },
     "metadata": {},
     "output_type": "display_data"
    }
   ],
   "source": [
    "sim = mp.Simulation(\n",
    "    cell_size=cell,\n",
    "    boundary_layers=pml_layers,\n",
    "    geometry=geometry,\n",
    "    sources=sources,\n",
    "    resolution=resolution,\n",
    ")\n",
    "\n",
    "nfreq = 100\n",
    "\n",
    "# Reflected flux\n",
    "refl_fr = mp.FluxRegion(\n",
    "    center=mp.Vector3(-0.5*sx + dpml + 0.5, wvg_ycen, 0),\n",
    "    size=mp.Vector3(0, 2*w, 0)\n",
    ")\n",
    "\n",
    "refl = sim.add_flux(fcen, df, nfreq, refl_fr)\n",
    "\n",
    "tran_fr = mp.FluxRegion(\n",
    "    center=mp.Vector3(0.5 * sx - dpml, wvg_ycen, 0),\n",
    "    size=mp.Vector3(0, 2 * w, 0)\n",
    ")\n",
    "\n",
    "tran = sim.add_flux(fcen, df, nfreq, tran_fr)\n",
    "plt.figure(dpi=150,)\n",
    "sim.plot2D()\n",
    "plt.show();"
   ]
  },
  {
   "cell_type": "code",
   "execution_count": 8,
   "id": "cdbe7cdd",
   "metadata": {},
   "outputs": [
    {
     "name": "stdout",
     "output_type": "stream",
     "text": [
      "-----------\n",
      "Initializing structure...\n",
      "time for choose_chunkdivision = 0.000105858 s\n",
      "Working in 2D dimensions.\n",
      "Computational cell is 16 x 32 x 0 with resolution 10\n",
      "     block, center = (0,-11.5,0)\n",
      "          size (1e+20,1,1e+20)\n",
      "          axes (1,0,0), (0,1,0), (0,0,1)\n",
      "          dielectric constant epsilon diagonal = (12,12,12)\n",
      "time for set_epsilon = 0.0547099 s\n",
      "-----------\n",
      "     block, center = (0,-11.5,0)\n",
      "          size (1e+20,1,1e+20)\n",
      "          axes (1,0,0), (0,1,0), (0,0,1)\n",
      "          dielectric constant epsilon diagonal = (12,12,12)\n",
      "field decay(t = 50.050000000000004): 4.825189380557793e-09 / 4.825189380557793e-09 = 1.0\n",
      "field decay(t = 100.05000000000001): 0.0288018098794258 / 0.0288018098794258 = 1.0\n",
      "field decay(t = 150.1): 0.026893465093385728 / 0.0288018098794258 = 0.933742192104279\n",
      "field decay(t = 200.15): 2.3158397323771355e-13 / 0.0288018098794258 = 8.040604885845821e-12\n",
      "Normalizing field data...\n",
      "run 0 finished at t = 200.15 (4003 timesteps)\n",
      "Generating MP4...\n"
     ]
    }
   ],
   "source": [
    "import time\n",
    "\n",
    "pt = mp.Vector3(0.5 * sx - dpml - 0.5, wvg_ycen)\n",
    "\n",
    "f = plt.figure(dpi=150)\n",
    "Animate = mp.Animate2D(fields=mp.Ez, f=f, realtime=False, normalize=True)\n",
    "sim.run(\n",
    "    mp.at_every(10, Animate),\n",
    "    until_after_sources = mp.stop_when_fields_decayed(\n",
    "        dt=50, c=mp.Ez, pt=pt, decay_by=1e-3,)\n",
    ")\n",
    "plt.close()\n",
    "!mkdir -p media\n",
    "filename = f'media/{time.strftime(\"%Y%m%d-%H%M%S\")}.mp4'\n",
    "fps = 10\n",
    "Animate.to_mp4(fps, filename)"
   ]
  },
  {
   "cell_type": "code",
   "execution_count": 9,
   "id": "e90cebaa",
   "metadata": {},
   "outputs": [
    {
     "data": {
      "text/html": [
       "<video src=\"media/20221124-142912.mp4\" controls  >\n",
       "      Your browser does not support the <code>video</code> element.\n",
       "    </video>"
      ],
      "text/plain": [
       "<IPython.core.display.Video object>"
      ]
     },
     "execution_count": 9,
     "metadata": {},
     "output_type": "execute_result"
    }
   ],
   "source": [
    "from IPython.display import Video\n",
    "Video(filename)"
   ]
  },
  {
   "cell_type": "code",
   "execution_count": 10,
   "id": "ac95b8f8",
   "metadata": {},
   "outputs": [],
   "source": [
    "straight_refl_data = sim.get_flux_data(refl)"
   ]
  },
  {
   "cell_type": "code",
   "execution_count": 11,
   "id": "4279038a",
   "metadata": {},
   "outputs": [],
   "source": [
    "straight_tran_flux = mp.get_fluxes(tran)"
   ]
  },
  {
   "cell_type": "code",
   "execution_count": 12,
   "id": "14ce5806",
   "metadata": {},
   "outputs": [
    {
     "name": "stdout",
     "output_type": "stream",
     "text": [
      "-----------\n",
      "Initializing structure...\n",
      "time for choose_chunkdivision = 0.000152111 s\n",
      "Working in 2D dimensions.\n",
      "Computational cell is 16 x 32 x 0 with resolution 10\n",
      "     block, center = (-2,-11.5,0)\n",
      "          size (12,1,1e+20)\n",
      "          axes (1,0,0), (0,1,0), (0,0,1)\n",
      "          dielectric constant epsilon diagonal = (12,12,12)\n",
      "     block, center = (3.5,2,0)\n",
      "          size (1,28,1e+20)\n",
      "          axes (1,0,0), (0,1,0), (0,0,1)\n",
      "          dielectric constant epsilon diagonal = (12,12,12)\n",
      "time for set_epsilon = 0.0606599 s\n",
      "-----------\n"
     ]
    }
   ],
   "source": [
    "sim.reset_meep()\n",
    "\n",
    "geometry = [\n",
    "    mp.Block(\n",
    "        mp.Vector3(sx - pad, w, mp.inf),\n",
    "        center=mp.Vector3(-0.5 * pad, wvg_ycen),\n",
    "        material=mp.Medium(epsilon=12),\n",
    "    ),\n",
    "    mp.Block(\n",
    "        mp.Vector3(w, sy - pad, mp.inf),\n",
    "        center=mp.Vector3(wvg_xcen, 0.5 * pad),\n",
    "        material=mp.Medium(epsilon=12),\n",
    "    ),\n",
    "]\n",
    "\n",
    "sim = mp.Simulation(\n",
    "    cell_size=cell,\n",
    "    boundary_layers=pml_layers,\n",
    "    geometry=geometry,\n",
    "    sources=sources,\n",
    "    resolution=resolution,\n",
    ")\n",
    "\n",
    "# reflected flux\n",
    "refl = sim.add_flux(fcen, df, nfreq, refl_fr)\n",
    "\n",
    "tran_fr = mp.FluxRegion(\n",
    "    center=mp.Vector3(wvg_xcen, 0.5 * sy - dpml - 0.5, 0), size=mp.Vector3(2 * w, 0, 0)\n",
    ")\n",
    "tran = sim.add_flux(fcen, df, nfreq, tran_fr)\n",
    "\n",
    "# for normal run, load negated fields to subtract incident from refl. fields\n",
    "sim.load_minus_flux_data(refl, straight_refl_data)\n",
    "\n",
    "pt = mp.Vector3(wvg_xcen, 0.5 * sy - dpml - 0.5)"
   ]
  },
  {
   "cell_type": "code",
   "execution_count": 13,
   "id": "982a35a0",
   "metadata": {},
   "outputs": [
    {
     "data": {
      "text/plain": [
       "<meep.simulation.FluxRegion at 0x7f5893d22730>"
      ]
     },
     "execution_count": 13,
     "metadata": {},
     "output_type": "execute_result"
    }
   ],
   "source": [
    "tran_fr"
   ]
  },
  {
   "cell_type": "code",
   "execution_count": 14,
   "id": "e1f0524b",
   "metadata": {},
   "outputs": [
    {
     "name": "stdout",
     "output_type": "stream",
     "text": [
      "     block, center = (-2,-11.5,0)\n",
      "          size (12,1,1e+20)\n",
      "          axes (1,0,0), (0,1,0), (0,0,1)\n",
      "          dielectric constant epsilon diagonal = (12,12,12)\n",
      "     block, center = (3.5,2,0)\n",
      "          size (1,28,1e+20)\n",
      "          axes (1,0,0), (0,1,0), (0,0,1)\n",
      "          dielectric constant epsilon diagonal = (12,12,12)\n",
      "field decay(t = 50.050000000000004): 1.6976522694449004e-10 / 1.6976522694449004e-10 = 1.0\n",
      "field decay(t = 100.05000000000001): 4.6910710639105397e-07 / 4.6910710639105397e-07 = 1.0\n",
      "field decay(t = 150.1): 2.9928727336863423e-07 / 4.6910710639105397e-07 = 0.6379934758846828\n",
      "field decay(t = 200.15): 0.003927813565272273 / 0.003927813565272273 = 1.0\n",
      "field decay(t = 250.20000000000002): 0.00015009081939074004 / 0.003927813565272273 = 0.03821230740627982\n",
      "field decay(t = 300.2): 8.806226395602308e-11 / 0.003927813565272273 = 2.242017409752458e-08\n",
      "Normalizing field data...\n",
      "run 0 finished at t = 300.2 (6004 timesteps)\n",
      "Generating MP4...\n"
     ]
    }
   ],
   "source": [
    "\n",
    "\n",
    "# plt.figure(dpi=150)\n",
    "# sim.plot2D()\n",
    "# plt.show()\n",
    "\n",
    "Animate = mp.Animate2D(fields=mp.Ez, f=f, realtime=False, normalize=True)\n",
    "sim.run(\n",
    "    mp.at_every(10, Animate),\n",
    "    until_after_sources = mp.stop_when_fields_decayed(\n",
    "        dt=50, c=mp.Ez, pt=pt, decay_by=1e-3,)\n",
    ")\n",
    "plt.close()\n",
    "!mkdir -p media\n",
    "filename = f'media/{time.strftime(\"%Y%m%d-%H%M%S\")}.mp4'\n",
    "fps = 10\n",
    "Animate.to_mp4(fps, filename)\n",
    "\n",
    "bend_refl_flux = mp.get_fluxes(refl)\n",
    "bend_tran_flux = mp.get_fluxes(tran)\n",
    "\n",
    "flux_freqs = mp.get_flux_freqs(refl)"
   ]
  },
  {
   "cell_type": "code",
   "execution_count": 15,
   "id": "2d8d9103",
   "metadata": {
    "scrolled": false
   },
   "outputs": [
    {
     "data": {
      "text/html": [
       "<video src=\"media/20221124-142919.mp4\" controls  >\n",
       "      Your browser does not support the <code>video</code> element.\n",
       "    </video>"
      ],
      "text/plain": [
       "<IPython.core.display.Video object>"
      ]
     },
     "execution_count": 15,
     "metadata": {},
     "output_type": "execute_result"
    }
   ],
   "source": [
    "Video(filename)"
   ]
  },
  {
   "cell_type": "code",
   "execution_count": 16,
   "id": "54fde2a2",
   "metadata": {},
   "outputs": [
    {
     "data": {
      "image/png": "[encoded data removed]",
      "text/plain": [
       "<Figure size 960x720 with 1 Axes>"
      ]
     },
     "metadata": {},
     "output_type": "display_data"
    }
   ],
   "source": [
    "wl = []\n",
    "Rs = []\n",
    "Ts = []\n",
    "\n",
    "for i in range(nfreq):\n",
    "    wl = np.append(wl, 1 / flux_freqs[i])\n",
    "    Rs = np.append(Rs, -bend_refl_flux[i] / straight_tran_flux[i])\n",
    "    Ts = np.append(Ts, bend_tran_flux[i] / straight_tran_flux[i])\n",
    "    \n",
    "\n",
    "if mp.am_master():\n",
    "    plt.figure(dpi=150)\n",
    "    plt.plot(wl, Rs, \"bo-\", label=\"reflectance\")\n",
    "    plt.plot(wl, Ts, \"ro-\", label=\"transmittance\")\n",
    "    plt.plot(wl, 1 - Rs - Ts, \"go-\", label=\"loss\")\n",
    "#     plt.axis([5.0, 10.0, 0, 1])\n",
    "    plt.ylim([0,1])\n",
    "    plt.xlabel(\"wavelength (μm)\")\n",
    "    plt.legend(loc=\"upper right\")\n",
    "    plt.show()"
   ]
  },
  {
   "cell_type": "code",
   "execution_count": 20,
   "id": "33ba7651",
   "metadata": {},
   "outputs": [
    {
     "data": {
      "text/plain": [
       "[0.09999999999999999,\n",
       " 0.10101010101010101,\n",
       " 0.10202020202020201,\n",
       " 0.10303030303030303,\n",
       " 0.10404040404040403,\n",
       " 0.10505050505050505,\n",
       " 0.10606060606060605,\n",
       " 0.10707070707070707,\n",
       " 0.10808080808080807,\n",
       " 0.10909090909090909,\n",
       " 0.11010101010101009,\n",
       " 0.1111111111111111,\n",
       " 0.11212121212121212,\n",
       " 0.11313131313131312,\n",
       " 0.11414141414141414,\n",
       " 0.11515151515151514,\n",
       " 0.11616161616161616,\n",
       " 0.11717171717171716,\n",
       " 0.11818181818181818,\n",
       " 0.11919191919191918,\n",
       " 0.1202020202020202,\n",
       " 0.12121212121212122,\n",
       " 0.12222222222222222,\n",
       " 0.12323232323232322,\n",
       " 0.12424242424242424,\n",
       " 0.12525252525252525,\n",
       " 0.12626262626262627,\n",
       " 0.12727272727272726,\n",
       " 0.12828282828282828,\n",
       " 0.1292929292929293,\n",
       " 0.1303030303030303,\n",
       " 0.13131313131313133,\n",
       " 0.13232323232323231,\n",
       " 0.13333333333333333,\n",
       " 0.13434343434343435,\n",
       " 0.13535353535353534,\n",
       " 0.13636363636363635,\n",
       " 0.13737373737373737,\n",
       " 0.1383838383838384,\n",
       " 0.1393939393939394,\n",
       " 0.14040404040404042,\n",
       " 0.1414141414141414,\n",
       " 0.14242424242424243,\n",
       " 0.14343434343434344,\n",
       " 0.14444444444444443,\n",
       " 0.14545454545454545,\n",
       " 0.14646464646464646,\n",
       " 0.14747474747474748,\n",
       " 0.1484848484848485,\n",
       " 0.14949494949494951,\n",
       " 0.1505050505050505,\n",
       " 0.15151515151515152,\n",
       " 0.15252525252525254,\n",
       " 0.15353535353535352,\n",
       " 0.15454545454545454,\n",
       " 0.15555555555555556,\n",
       " 0.15656565656565657,\n",
       " 0.1575757575757576,\n",
       " 0.15858585858585858,\n",
       " 0.1595959595959596,\n",
       " 0.1606060606060606,\n",
       " 0.16161616161616163,\n",
       " 0.16262626262626262,\n",
       " 0.16363636363636364,\n",
       " 0.16464646464646465,\n",
       " 0.16565656565656567,\n",
       " 0.16666666666666669,\n",
       " 0.1676767676767677,\n",
       " 0.1686868686868687,\n",
       " 0.1696969696969697,\n",
       " 0.1707070707070707,\n",
       " 0.1717171717171717,\n",
       " 0.17272727272727273,\n",
       " 0.17373737373737375,\n",
       " 0.17474747474747476,\n",
       " 0.17575757575757578,\n",
       " 0.1767676767676768,\n",
       " 0.17777777777777778,\n",
       " 0.1787878787878788,\n",
       " 0.1797979797979798,\n",
       " 0.1808080808080808,\n",
       " 0.18181818181818182,\n",
       " 0.18282828282828284,\n",
       " 0.18383838383838386,\n",
       " 0.18484848484848487,\n",
       " 0.18585858585858586,\n",
       " 0.18686868686868688,\n",
       " 0.1878787878787879,\n",
       " 0.18888888888888888,\n",
       " 0.1898989898989899,\n",
       " 0.19090909090909092,\n",
       " 0.19191919191919193,\n",
       " 0.19292929292929295,\n",
       " 0.19393939393939397,\n",
       " 0.19494949494949496,\n",
       " 0.19595959595959597,\n",
       " 0.19696969696969696,\n",
       " 0.19797979797979798,\n",
       " 0.198989898989899,\n",
       " 0.2]"
      ]
     },
     "execution_count": 20,
     "metadata": {},
     "output_type": "execute_result"
    }
   ],
   "source": [
    "flux_freqs"
   ]
  },
  {
   "cell_type": "code",
   "execution_count": 18,
   "id": "0ce195ca",
   "metadata": {},
   "outputs": [
    {
     "data": {
      "text/plain": [
       "0.1"
      ]
     },
     "execution_count": 18,
     "metadata": {},
     "output_type": "execute_result"
    }
   ],
   "source": [
    "1/10"
   ]
  },
  {
   "cell_type": "code",
   "execution_count": 19,
   "id": "0084ac6a",
   "metadata": {},
   "outputs": [
    {
     "data": {
      "text/plain": [
       "0.15"
      ]
     },
     "execution_count": 19,
     "metadata": {},
     "output_type": "execute_result"
    }
   ],
   "source": [
    "fcen"
   ]
  },
  {
   "cell_type": "code",
   "execution_count": null,
   "id": "dc898eb9",
   "metadata": {},
   "outputs": [],
   "source": []
  }
 ],
 "metadata": {
  "kernelspec": {
   "display_name": "Python 3 (ipykernel)",
   "language": "python",
   "name": "python3"
  },
  "language_info": {
   "codemirror_mode": {
    "name": "ipython",
    "version": 3
   },
   "file_extension": ".py",
   "mimetype": "text/x-python",
   "name": "python",
   "nbconvert_exporter": "python",
   "pygments_lexer": "ipython3",
   "version": "3.8.15"
  }
 },
 "nbformat": 4,
 "nbformat_minor": 5
}
