{
 "cells": [
  {
   "cell_type": "code",
   "execution_count": 2,
   "id": "b303210b",
   "metadata": {},
   "outputs": [],
   "source": [
    "import meep as mp\n",
    "import numpy as np\n",
    "import matplotlib.pyplot as plt\n",
    "\n",
    "resolution = 10  # pixels/um\n",
    "\n",
    "sx = 16  # size of cell in X direction\n",
    "sy = 32  # size of cell in Y direction\n",
    "cell = mp.Vector3(sx, sy, 0)\n",
    "\n",
    "dpml = 1.0\n",
    "pml_layers = [mp.PML(dpml)]"
   ]
  },
  {
   "cell_type": "code",
   "execution_count": 3,
   "id": "d486e88b",
   "metadata": {},
   "outputs": [],
   "source": [
    "pad = 4 # Pad distance between waveguide and cell edge\n",
    "w = 1 # width of waveguide"
   ]
  },
  {
   "cell_type": "code",
   "execution_count": 35,
   "id": "b6726112",
   "metadata": {},
   "outputs": [],
   "source": [
    "wvg_xcen = .5 * (sx - w - 2 * pad) # x center of horiz wvg\n",
    "wvg_ycen = -.5 * (sy - w - 2 * pad) # y center of vert wvg"
   ]
  },
  {
   "cell_type": "code",
   "execution_count": 36,
   "id": "bb72c4b4",
   "metadata": {},
   "outputs": [
    {
     "data": {
      "text/plain": [
       "(3.5, -11.5)"
      ]
     },
     "execution_count": 36,
     "metadata": {},
     "output_type": "execute_result"
    }
   ],
   "source": [
    "wvg_xcen, wvg_ycen"
   ]
  },
  {
   "cell_type": "code",
   "execution_count": 37,
   "id": "0f930010",
   "metadata": {},
   "outputs": [],
   "source": [
    "geometry = [\n",
    "    mp.Block(\n",
    "        size=mp.Vector3(mp.inf, w, mp.inf),\n",
    "        center=mp.Vector3(0,wvg_ycen,0),\n",
    "        material=mp.Medium(epsilon=12)\n",
    "    )\n",
    "]"
   ]
  },
  {
   "cell_type": "code",
   "execution_count": 38,
   "id": "4b15a956",
   "metadata": {},
   "outputs": [],
   "source": [
    "fcen = .15\n",
    "df = .1\n",
    "sources = [\n",
    "    mp.Source(\n",
    "        mp.GaussianSource(fcen, fwidth=df),\n",
    "        component=mp.Ez,\n",
    "        center=mp.Vector3(-0.5 * sx + dpml, wvg_ycen, 0),\n",
    "        size=mp.Vector3(0,w,0)\n",
    "    )\n",
    "]"
   ]
  },
  {
   "cell_type": "code",
   "execution_count": 51,
   "id": "54514d7c",
   "metadata": {},
   "outputs": [
    {
     "name": "stdout",
     "output_type": "stream",
     "text": [
      "     block, center = (0,-11.5,0)\n",
      "          size (1e+20,1,1e+20)\n",
      "          axes (1,0,0), (0,1,0), (0,0,1)\n",
      "          dielectric constant epsilon diagonal = (12,12,12)\n"
     ]
    },
    {
     "data": {
      "image/png": "[encoded data removed]",
      "text/plain": [
       "<Figure size 960x720 with 1 Axes>"
      ]
     },
     "metadata": {},
     "output_type": "display_data"
    }
   ],
   "source": [
    "sim = mp.Simulation(\n",
    "    cell_size=cell,\n",
    "    boundary_layers=pml_layers,\n",
    "    geometry=geometry,\n",
    "    sources=sources,\n",
    "    resolution=resolution,\n",
    ")\n",
    "\n",
    "nfreq = 100\n",
    "\n",
    "# Reflected flux\n",
    "refl_fr = mp.FluxRegion(\n",
    "    center=mp.Vector3(-0.5*sx + dpml + 0.5, wvg_ycen, 0),\n",
    "    size=mp.Vector3(0, 2*w, 0)\n",
    ")\n",
    "\n",
    "refl = sim.add_flux(fcen, df, nfreq, refl_fr)\n",
    "\n",
    "tran_fr = mp.FluxRegion(\n",
    "    center=mp.Vector3(0.5 * sx - dpml, wvg_ycen, 0),\n",
    "    size=mp.Vector3(0, 2 * w, 0)\n",
    ")\n",
    "\n",
    "tran = sim.add_flux(fcen, df, nfreq, tran_fr)\n",
    "plt.figure(dpi=150,)\n",
    "sim.plot2D()\n",
    "plt.show();"
   ]
  },
  {
   "cell_type": "code",
   "execution_count": 52,
   "id": "cdbe7cdd",
   "metadata": {},
   "outputs": [
    {
     "name": "stdout",
     "output_type": "stream",
     "text": [
      "-----------\n",
      "Initializing structure...\n",
      "time for choose_chunkdivision = 0.000154972 s\n",
      "Working in 2D dimensions.\n",
      "Computational cell is 16 x 32 x 0 with resolution 10\n",
      "     block, center = (0,-11.5,0)\n",
      "          size (1e+20,1,1e+20)\n",
      "          axes (1,0,0), (0,1,0), (0,0,1)\n",
      "          dielectric constant epsilon diagonal = (12,12,12)\n",
      "time for set_epsilon = 0.0529728 s\n",
      "-----------\n",
      "     block, center = (0,-11.5,0)\n",
      "          size (1e+20,1,1e+20)\n",
      "          axes (1,0,0), (0,1,0), (0,0,1)\n",
      "          dielectric constant epsilon diagonal = (12,12,12)\n",
      "field decay(t = 50.050000000000004): 4.825189380557793e-09 / 4.825189380557793e-09 = 1.0\n",
      "field decay(t = 100.05000000000001): 0.0288018098794258 / 0.0288018098794258 = 1.0\n",
      "field decay(t = 150.1): 0.026893465093385728 / 0.0288018098794258 = 0.933742192104279\n",
      "field decay(t = 200.15): 2.3158397323771355e-13 / 0.0288018098794258 = 8.040604885845821e-12\n",
      "Normalizing field data...\n",
      "run 0 finished at t = 200.15 (4003 timesteps)\n",
      "Generating MP4...\n"
     ]
    }
   ],
   "source": [
    "import time\n",
    "\n",
    "pt = mp.Vector3(0.5 * sx - dpml - 0.5, wvg_ycen)\n",
    "\n",
    "f = plt.figure(dpi=150)\n",
    "Animate = mp.Animate2D(fields=mp.Ez, f=f, realtime=False, normalize=True)\n",
    "sim.run(\n",
    "    mp.at_every(10, Animate),\n",
    "    until_after_sources = mp.stop_when_fields_decayed(\n",
    "        dt=50, c=mp.Ez, pt=pt, decay_by=1e-3,)\n",
    ")\n",
    "plt.close()\n",
    "!mkdir -p media\n",
    "filename = f'media/{time.strftime(\"%Y%m%d-%H%M%S\")}.mp4'\n",
    "fps = 10\n",
    "Animate.to_mp4(fps, filename)"
   ]
  },
  {
   "cell_type": "code",
   "execution_count": 53,
   "id": "e90cebaa",
   "metadata": {},
   "outputs": [
    {
     "data": {
      "text/html": [
       "<video src=\"media/20221122-191254.mp4\" controls  >\n",
       "      Your browser does not support the <code>video</code> element.\n",
       "    </video>"
      ],
      "text/plain": [
       "<IPython.core.display.Video object>"
      ]
     },
     "execution_count": 53,
     "metadata": {},
     "output_type": "execute_result"
    }
   ],
   "source": [
    "from IPython.display import Video\n",
    "Video(filename)"
   ]
  },
  {
   "cell_type": "code",
   "execution_count": 54,
   "id": "ac95b8f8",
   "metadata": {},
   "outputs": [],
   "source": [
    "straight_refl_data = sim.get_flux_data(refl)"
   ]
  },
  {
   "cell_type": "code",
   "execution_count": 56,
   "id": "4279038a",
   "metadata": {},
   "outputs": [],
   "source": [
    "straight_tran_flux = mp.get_fluxes(tran)"
   ]
  },
  {
   "cell_type": "code",
   "execution_count": 62,
   "id": "14ce5806",
   "metadata": {},
   "outputs": [
    {
     "name": "stdout",
     "output_type": "stream",
     "text": [
      "-----------\n",
      "Initializing structure...\n",
      "time for choose_chunkdivision = 0.000100136 s\n",
      "Working in 2D dimensions.\n",
      "Computational cell is 16 x 32 x 0 with resolution 10\n",
      "     block, center = (-2,-11.5,0)\n",
      "          size (12,1,1e+20)\n",
      "          axes (1,0,0), (0,1,0), (0,0,1)\n",
      "          dielectric constant epsilon diagonal = (12,12,12)\n",
      "     block, center = (3.5,2,0)\n",
      "          size (1,28,1e+20)\n",
      "          axes (1,0,0), (0,1,0), (0,0,1)\n",
      "          dielectric constant epsilon diagonal = (12,12,12)\n",
      "time for set_epsilon = 0.057163 s\n",
      "-----------\n"
     ]
    }
   ],
   "source": [
    "sim.reset_meep()\n",
    "\n",
    "geometry = [\n",
    "    mp.Block(\n",
    "        mp.Vector3(sx - pad, w, mp.inf),\n",
    "        center=mp.Vector3(-0.5 * pad, wvg_ycen),\n",
    "        material=mp.Medium(epsilon=12),\n",
    "    ),\n",
    "    mp.Block(\n",
    "        mp.Vector3(w, sy - pad, mp.inf),\n",
    "        center=mp.Vector3(wvg_xcen, 0.5 * pad),\n",
    "        material=mp.Medium(epsilon=12),\n",
    "    ),\n",
    "]\n",
    "\n",
    "sim = mp.Simulation(\n",
    "    cell_size=cell,\n",
    "    boundary_layers=pml_layers,\n",
    "    geometry=geometry,\n",
    "    sources=sources,\n",
    "    resolution=resolution,\n",
    ")\n",
    "\n",
    "# reflected flux\n",
    "refl = sim.add_flux(fcen, df, nfreq, refl_fr)\n",
    "\n",
    "tran_fr = mp.FluxRegion(\n",
    "    center=mp.Vector3(wvg_xcen, 0.5 * sy - dpml - 0.5, 0), size=mp.Vector3(2 * w, 0, 0)\n",
    ")\n",
    "tran = sim.add_flux(fcen, df, nfreq, tran_fr)\n",
    "\n",
    "# for normal run, load negated fields to subtract incident from refl. fields\n",
    "sim.load_minus_flux_data(refl, straight_refl_data)\n",
    "\n",
    "pt = mp.Vector3(wvg_xcen, 0.5 * sy - dpml - 0.5)"
   ]
  },
  {
   "cell_type": "code",
   "execution_count": 63,
   "id": "e1f0524b",
   "metadata": {},
   "outputs": [
    {
     "name": "stdout",
     "output_type": "stream",
     "text": [
      "     block, center = (-2,-11.5,0)\n",
      "          size (12,1,1e+20)\n",
      "          axes (1,0,0), (0,1,0), (0,0,1)\n",
      "          dielectric constant epsilon diagonal = (12,12,12)\n",
      "     block, center = (3.5,2,0)\n",
      "          size (1,28,1e+20)\n",
      "          axes (1,0,0), (0,1,0), (0,0,1)\n",
      "          dielectric constant epsilon diagonal = (12,12,12)\n",
      "field decay(t = 50.050000000000004): 1.6976522694449004e-10 / 1.6976522694449004e-10 = 1.0\n",
      "field decay(t = 100.05000000000001): 4.6910710639105397e-07 / 4.6910710639105397e-07 = 1.0\n",
      "field decay(t = 150.1): 2.9928727336863423e-07 / 4.6910710639105397e-07 = 0.6379934758846828\n",
      "field decay(t = 200.15): 0.003927813565272273 / 0.003927813565272273 = 1.0\n",
      "field decay(t = 250.20000000000002): 0.00015009081939074004 / 0.003927813565272273 = 0.03821230740627982\n",
      "field decay(t = 300.2): 8.806226395602308e-11 / 0.003927813565272273 = 2.242017409752458e-08\n",
      "Normalizing field data...\n",
      "run 0 finished at t = 300.2 (6004 timesteps)\n",
      "Generating MP4...\n"
     ]
    }
   ],
   "source": [
    "\n",
    "\n",
    "# plt.figure(dpi=150)\n",
    "# sim.plot2D()\n",
    "# plt.show()\n",
    "\n",
    "Animate = mp.Animate2D(fields=mp.Ez, f=f, realtime=False, normalize=True)\n",
    "sim.run(\n",
    "    mp.at_every(10, Animate),\n",
    "    until_after_sources = mp.stop_when_fields_decayed(\n",
    "        dt=50, c=mp.Ez, pt=pt, decay_by=1e-3,)\n",
    ")\n",
    "plt.close()\n",
    "!mkdir -p media\n",
    "filename = f'media/{time.strftime(\"%Y%m%d-%H%M%S\")}.mp4'\n",
    "fps = 10\n",
    "Animate.to_mp4(fps, filename)\n",
    "\n",
    "bend_refl_flux = mp.get_fluxes(refl)\n",
    "bend_tran_flux = mp.get_fluxes(tran)\n",
    "\n",
    "flux_freqs = mp.get_flux_freqs(refl)"
   ]
  },
  {
   "cell_type": "code",
   "execution_count": 64,
   "id": "2d8d9103",
   "metadata": {
    "scrolled": true
   },
   "outputs": [
    {
     "data": {
      "text/html": [
       "<video src=\"media/20221122-192012.mp4\" controls  >\n",
       "      Your browser does not support the <code>video</code> element.\n",
       "    </video>"
      ],
      "text/plain": [
       "<IPython.core.display.Video object>"
      ]
     },
     "execution_count": 64,
     "metadata": {},
     "output_type": "execute_result"
    }
   ],
   "source": [
    "Video(filename)"
   ]
  },
  {
   "cell_type": "code",
   "execution_count": 65,
   "id": "54fde2a2",
   "metadata": {},
   "outputs": [
    {
     "data": {
      "image/png": "[encoded data removed]",
      "text/plain": [
       "<Figure size 960x720 with 1 Axes>"
      ]
     },
     "metadata": {},
     "output_type": "display_data"
    }
   ],
   "source": [
    "wl = []\n",
    "Rs = []\n",
    "Ts = []\n",
    "\n",
    "for i in range(nfreq):\n",
    "    wl = np.append(wl, 1 / flux_freqs[i])\n",
    "    Rs = np.append(Rs, -bend_refl_flux[i] / straight_tran_flux[i])\n",
    "    Ts = np.append(Ts, bend_tran_flux[i] / straight_tran_flux[i])\n",
    "    \n",
    "\n",
    "if mp.am_master():\n",
    "    plt.figure(dpi=150)\n",
    "    plt.plot(wl, Rs, \"bo-\", label=\"reflectance\")\n",
    "    plt.plot(wl, Ts, \"ro-\", label=\"transmittance\")\n",
    "    plt.plot(wl, 1 - Rs - Ts, \"go-\", label=\"loss\")\n",
    "    plt.axis([5.0, 10.0, 0, 1])\n",
    "    plt.xlabel(\"wavelength (μm)\")\n",
    "    plt.legend(loc=\"upper right\")\n",
    "    plt.show()"
   ]
  },
  {
   "cell_type": "code",
   "execution_count": null,
   "id": "dc898eb9",
   "metadata": {},
   "outputs": [],
   "source": []
  }
 ],
 "metadata": {
  "kernelspec": {
   "display_name": "Python 3 (ipykernel)",
   "language": "python",
   "name": "python3"
  },
  "language_info": {
   "codemirror_mode": {
    "name": "ipython",
    "version": 3
   },
   "file_extension": ".py",
   "mimetype": "text/x-python",
   "name": "python",
   "nbconvert_exporter": "python",
   "pygments_lexer": "ipython3",
   "version": "3.8.15"
  }
 },
 "nbformat": 4,
 "nbformat_minor": 5
}
