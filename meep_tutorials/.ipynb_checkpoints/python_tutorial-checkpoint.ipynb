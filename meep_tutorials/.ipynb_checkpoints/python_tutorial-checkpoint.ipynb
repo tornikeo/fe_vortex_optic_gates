{
 "cells": [
  {
   "cell_type": "code",
   "execution_count": 1,
   "id": "30b66df9",
   "metadata": {},
   "outputs": [],
   "source": [
    "import meep as mp"
   ]
  },
  {
   "cell_type": "code",
   "execution_count": 2,
   "id": "048cc31a",
   "metadata": {},
   "outputs": [],
   "source": [
    "cell = mp.Vector3(16,8,0)"
   ]
  },
  {
   "cell_type": "code",
   "execution_count": 3,
   "id": "84202f2f",
   "metadata": {},
   "outputs": [],
   "source": [
    "geometry = [\n",
    "    mp.Block(\n",
    "        mp.Vector3(mp.inf, 1, mp.inf),    \n",
    "        center=mp.Vector3(),\n",
    "        material=mp.Medium(epsilon=12)\n",
    "    )\n",
    "]"
   ]
  },
  {
   "cell_type": "code",
   "execution_count": 5,
   "id": "96368d0e",
   "metadata": {},
   "outputs": [],
   "source": [
    "sources = [\n",
    "    mp.Source(\n",
    "        mp.ContinuousSource(frequency=.15,),\n",
    "        component=mp.Ez,\n",
    "        center=mp.Vector3(-7,0)\n",
    "    )\n",
    "]"
   ]
  },
  {
   "cell_type": "code",
   "execution_count": 28,
   "id": "501ead89",
   "metadata": {},
   "outputs": [],
   "source": [
    "pml_layers = [mp.PML(1.0)]"
   ]
  },
  {
   "cell_type": "code",
   "execution_count": 30,
   "id": "b7956ef0",
   "metadata": {},
   "outputs": [],
   "source": [
    "resolution = 10"
   ]
  },
  {
   "cell_type": "code",
   "execution_count": 32,
   "id": "d1576fb5",
   "metadata": {},
   "outputs": [],
   "source": [
    "sim = mp.Simulation(\n",
    "    cell_size=cell,\n",
    "    boundary_layers=pml_layers,\n",
    "    geometry=geometry,\n",
    "    sources=sources,\n",
    "    resolution=resolution\n",
    ")"
   ]
  },
  {
   "cell_type": "code",
   "execution_count": 33,
   "id": "987d5be9",
   "metadata": {},
   "outputs": [
    {
     "name": "stdout",
     "output_type": "stream",
     "text": [
      "-----------\n",
      "Initializing structure...\n",
      "time for choose_chunkdivision = 0.000521898 s\n",
      "Working in 2D dimensions.\n",
      "Computational cell is 16 x 8 x 0 with resolution 10\n",
      "     block, center = (0,0,0)\n",
      "          size (1e+20,1,1e+20)\n",
      "          axes (1,0,0), (0,1,0), (0,0,1)\n",
      "          dielectric constant epsilon diagonal = (12,12,12)\n",
      "time for set_epsilon = 0.023119 s\n",
      "-----------\n",
      "run 0 finished at t = 200.0 (4000 timesteps)\n"
     ]
    }
   ],
   "source": [
    "sim.run(until=200)"
   ]
  },
  {
   "cell_type": "code",
   "execution_count": 34,
   "id": "01944fe5",
   "metadata": {},
   "outputs": [],
   "source": [
    "import numpy as np\n",
    "import matplotlib.pyplot as plt"
   ]
  },
  {
   "cell_type": "code",
   "execution_count": 43,
   "id": "447bbf2e",
   "metadata": {},
   "outputs": [
    {
     "data": {
      "image/png": "[encoded data removed]",
      "text/plain": [
       "<Figure size 640x480 with 1 Axes>"
      ]
     },
     "metadata": {},
     "output_type": "display_data"
    }
   ],
   "source": [
    "eps_data = sim.get_array(\n",
    "    center=mp.Vector3(),\n",
    "    size=cell,\n",
    "    component=mp.Dielectric\n",
    ")\n",
    "plt.figure()\n",
    "plt.imshow(eps_data.T)\n",
    "plt.axis('off')\n",
    "plt.show()"
   ]
  },
  {
   "cell_type": "code",
   "execution_count": null,
   "id": "7ea4d48e",
   "metadata": {},
   "outputs": [],
   "source": []
  }
 ],
 "metadata": {
  "kernelspec": {
   "display_name": "Python 3 (ipykernel)",
   "language": "python",
   "name": "python3"
  },
  "language_info": {
   "codemirror_mode": {
    "name": "ipython",
    "version": 3
   },
   "file_extension": ".py",
   "mimetype": "text/x-python",
   "name": "python",
   "nbconvert_exporter": "python",
   "pygments_lexer": "ipython3",
   "version": "3.8.15"
  }
 },
 "nbformat": 4,
 "nbformat_minor": 5
}
