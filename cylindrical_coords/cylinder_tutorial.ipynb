{
 "cells": [
  {
   "cell_type": "markdown",
   "id": "38ad368f-e0ba-4897-a608-7db7e8b7a8ae",
   "metadata": {},
   "source": [
    "Geom, Material, Current Sources, Detectors"
   ]
  },
  {
   "cell_type": "code",
   "execution_count": 1,
   "id": "f9b11a0e-3cfc-4f6b-83aa-101c5763e7d8",
   "metadata": {},
   "outputs": [],
   "source": [
    "import meep as mp"
   ]
  },
  {
   "cell_type": "code",
   "execution_count": 2,
   "id": "28ad56ae-bcf8-4817-897b-8420af74c6a0",
   "metadata": {},
   "outputs": [],
   "source": [
    "cell = mp.Vector3(16, 8, 0)"
   ]
  },
  {
   "cell_type": "code",
   "execution_count": 3,
   "id": "e26e3fe5-af3f-462c-bb86-09304eed7a7a",
   "metadata": {},
   "outputs": [],
   "source": [
    "geometry = [\n",
    "    mp.Block(\n",
    "        mp.Vector3(mp.inf, 1, mp.inf),\n",
    "        center = mp.Vector3(0,0,0),\n",
    "        material = mp.Medium(epsilon=12)\n",
    "    )\n",
    "]"
   ]
  },
  {
   "cell_type": "code",
   "execution_count": 5,
   "id": "25e4b45b-6954-4da7-9529-9439814d5bd5",
   "metadata": {},
   "outputs": [],
   "source": [
    "sources = [\n",
    "    mp.Source(mp.ContinuousSource(frequency=0.15),\n",
    "              component=mp.Ez,\n",
    "              center=mp.Vector3(-7,0)\n",
    "             ),\n",
    "]"
   ]
  },
  {
   "cell_type": "markdown",
   "id": "79dbb29f-8b87-4789-8bee-4538187cbb4c",
   "metadata": {},
   "source": [
    "Freq specified in 2 * pi * c"
   ]
  },
  {
   "cell_type": "code",
   "execution_count": null,
   "id": "94346807-ac6b-45dc-84c9-81120db16cdf",
   "metadata": {},
   "outputs": [],
   "source": []
  }
 ],
 "metadata": {
  "kernelspec": {
   "display_name": "Python 3 (ipykernel)",
   "language": "python",
   "name": "python3"
  },
  "language_info": {
   "codemirror_mode": {
    "name": "ipython",
    "version": 3
   },
   "file_extension": ".py",
   "mimetype": "text/x-python",
   "name": "python",
   "nbconvert_exporter": "python",
   "pygments_lexer": "ipython3",
   "version": "3.9.12"
  }
 },
 "nbformat": 4,
 "nbformat_minor": 5
}
