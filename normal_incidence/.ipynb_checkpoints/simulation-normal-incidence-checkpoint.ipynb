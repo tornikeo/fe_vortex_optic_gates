{
 "cells": [
  {
   "cell_type": "code",
   "execution_count": 1,
   "metadata": {},
   "outputs": [
    {
     "name": "stdout",
     "output_type": "stream",
     "text": [
      "3.5.1\n"
     ]
    }
   ],
   "source": [
    "%load_ext autoreload\n",
    "%autoreload 2\n",
    "\n",
    "import meep as mp\n",
    "import numpy as np\n",
    "import matplotlib as mpl\n",
    "import matplotlib.pyplot as plt\n",
    "import math \n",
    "import seaborn as sns\n",
    "from itertools import product\n",
    "from math import pi\n",
    "print(mpl.__version__)"
   ]
  },
  {
   "cell_type": "code",
   "execution_count": 2,
   "metadata": {},
   "outputs": [],
   "source": [
    "# %conda install numpy matplotlib seaborn "
   ]
  },
  {
   "cell_type": "markdown",
   "metadata": {},
   "source": [
    "## Fields in a waveguide"
   ]
  },
  {
   "cell_type": "markdown",
   "metadata": {},
   "source": [
    "1) ერთი ვორტიქსის სიგრძე, ანუ ჩვენს შემთხვევაში კვადრატის სიგრძე, ანუ h არის დაახლოვებით 10 ნანომეტრი.\n",
    "\n",
    "2) Q პარამეტრი დაივიწყეთ. რაც გვიწერია სტატიაში omega/c*Q ეს იგივეა რაც h/lambda. lambda კი თავის მხრივ სიხშირეზეა დამოკიდებული.\n",
    "თუ მაგალითად აიღებთ ჩვენს შემთხვევაში როგორც ჩვენის შედეგების ნახაზზეა, მაგალითად, განუზომელ პარამეტრს 0.53, ეს ნიშნავს, რომ h/lambda=0.53\n",
    "ანუ თუ ვიცით, რომ  h=10 ნმ, ესეიგი ლამბდა არის 10/0.53=18.8679 ნმ. შესაბამისად შეგიძლიათ აქედან გაიგოთ სიხშირე, თუმცა არ მგონია რომ\n",
    "სიხშირის გაგება გჭირდებოდეთ, მგონია რომ პერიოდი და ტალღის სიგრძე საკმარისია. \n",
    "\n",
    "ჯერ ნახეთ  h/lambda=0.53 და  h/lambda=0.58, სადაც ნამდვილად გასვლა გვაქვს. ამას იმიტომ ვამბობ, რომ არეკვლის სიმძლავრე დამოკიდებულია\n",
    "ფენების რაოდენომაზე (როგორც ფოტონიკებში გვქონდა, 5-ს რომ ვიღებდით), შესაბამისად მე უნდა დავთვალო თქვენ რამდენ ფენასაც აიღებთ იქ\n",
    "რამდენად ძლიერი იქნება არეკვლა. არეკვლა რომ იქნება ცხადია, თუმცა რამდენად ძლიერი, შეიძლება ნაწილი გავიდეს. \n",
    "რაც შეეხება h/lambda=0.53 და  h/lambda=0.58 აქ სრული გასვლაა და პრობლემა არ არის. "
   ]
  },
  {
   "cell_type": "markdown",
   "metadata": {},
   "source": [
    "მარტივია, მაგრამ მაინც იხილეთ ბმული ფაილი. ამ მარტივი გარდაქმნით პირდაპირ გამოდის 9.21 ფორმულა.\n",
    "ანუ დროით ორმაგი წარმოებულები ჩაწერილი ამ ფორმით. აქედან პირდაპი 9.21.\n",
    "თუ ახლა, უბრალოდ შესამოწმებლად, დაუშვებთ რომ ომეგა_დ=0 (გამმა_დ ყოველთვის ნულია ჩვენთან რადგანაც მილევა არ გვაქვს),\n",
    "მიიღებთ დროის ყველა ეტაპზე ცნობილ დამოკიდებულებას D და E ვექტორებს შორის, კერძოდ D=eps_0*eps*E.\n",
    "მოკლედ მე თითქმის დარწმუნებული ვარ, რომ თუ თქვენ სწორედ \n",
    "გამოიყენებთ ამ 9.21 ფორმულას, უნდა გადაიჭრას ჩვენი პრობლემა. ასევე ყურადღება მიაქციეთ სულ ბოლო წინადადებას\n",
    "გაყვითლებული რომ მაქვს, სადაც რეალურად წერია რა მონაცემებით უნდა გააკეთოთ \"აპდეითი\" ახალი მონაცემების.\n",
    "მოკლედ ერთი დამეტებითი D ვექტორის შემოტანა მოგიწევთ.\n"
   ]
  },
  {
   "cell_type": "code",
   "execution_count": 3,
   "metadata": {},
   "outputs": [],
   "source": [
    "ratio = 0.255 # Should block on both 12 and 24"
   ]
  },
  {
   "cell_type": "code",
   "execution_count": 4,
   "metadata": {},
   "outputs": [
    {
     "name": "stdout",
     "output_type": "stream",
     "text": [
      "Resolution is 4/UOD, k_0 is -0.15379, min_eps 0.8462129950019224\n"
     ]
    }
   ],
   "source": [
    "# scale is nanometers\n",
    "# unit of distance is 1nm\n",
    "width = 1\n",
    "\n",
    "h = 10 # nanometers\n",
    "lamd = h / ratio # nanometers\n",
    "k_0 = - 0.01 * ((h/lamd) ** (-2)) # Used for eps hat calculation\n",
    "resolution = math.ceil(max(1 / (lamd / 10), 1 / (h / 36)))\n",
    "size_of_pixel = 1 / resolution\n",
    "vortex_rows = 24 * 2\n",
    "vortex_cols = vortex_rows // 2 # At least 2:1 ratio is needed\n",
    "\n",
    "pml_size = lamd * 0.50 + size_of_pixel\n",
    "pml_sep = size_of_pixel * 2\n",
    "pml_depth = pml_size + pml_sep # nm\n",
    "\n",
    "simulation_area = np.array([vortex_cols * h, (vortex_rows + 1) * h, 0])\n",
    "grid_size = simulation_area + [pml_depth * 2, pml_depth * 2, 0] # nm\n",
    "\n",
    "\n",
    "min_eps = min(abs(1 - k_0), abs(1 + k_0))\n",
    "courant_factor = 0.8\n",
    "courant = courant_factor * (min_eps ** .5) / (2 ** .5) # no dim. \n",
    "time_resolution = courant_factor * size_of_pixel\n",
    "\n",
    "# this is pixels per scale (nanometers here). \n",
    "# The vortices have size 10nmx10nm, and consist of \n",
    "# 6x6 cells. So, the resolution should be\n",
    "\n",
    "print(f'Resolution is {resolution}/UOD, k_0 is {k_0:.5f}, min_eps {min_eps}')"
   ]
  },
  {
   "cell_type": "code",
   "execution_count": 5,
   "metadata": {},
   "outputs": [
    {
     "data": {
      "text/plain": [
       "0.8462129950019224"
      ]
     },
     "execution_count": 5,
     "metadata": {},
     "output_type": "execute_result"
    }
   ],
   "source": [
    "1+k_0"
   ]
  },
  {
   "cell_type": "code",
   "execution_count": 6,
   "metadata": {},
   "outputs": [
    {
     "data": {
      "text/plain": [
       "0.2"
      ]
     },
     "execution_count": 6,
     "metadata": {},
     "output_type": "execute_result"
    }
   ],
   "source": [
    "time_resolution"
   ]
  },
  {
   "cell_type": "code",
   "execution_count": 7,
   "metadata": {},
   "outputs": [
    {
     "data": {
      "text/plain": [
       "Vector3<280.71568627450984, 530.7156862745098, 0.0>"
      ]
     },
     "execution_count": 7,
     "metadata": {},
     "output_type": "execute_result"
    }
   ],
   "source": [
    "cell = mp.Vector3(*grid_size)\n",
    "cell # nanometers"
   ]
  },
  {
   "cell_type": "code",
   "execution_count": 8,
   "metadata": {},
   "outputs": [
    {
     "data": {
      "text/plain": [
       "<AxesSubplot:>"
      ]
     },
     "execution_count": 8,
     "metadata": {},
     "output_type": "execute_result"
    },
    {
     "data": {
      "image/png": "[encoded data removed]",
      "text/plain": [
       "<Figure size 432x288 with 2 Axes>"
      ]
     },
     "metadata": {
      "needs_background": "light"
     },
     "output_type": "display_data"
    }
   ],
   "source": [
    "vortex_rads = np.zeros((6,6))\n",
    "d = 3\n",
    "for val in [pi * 1.5, pi, pi * .5, 0]:\n",
    "    for x,y in product(range(6), range(6)):\n",
    "        if y - d >= abs(x - d): \n",
    "            vortex_rads[x,y] = val\n",
    "    vortex_rads = np.rot90(vortex_rads)\n",
    "sns.heatmap(vortex_rads)"
   ]
  },
  {
   "cell_type": "code",
   "execution_count": 9,
   "metadata": {},
   "outputs": [],
   "source": [
    "from functools import partial\n",
    "mp.verbosity.set(0)\n",
    "\n",
    "W,H, _ = grid_size\n",
    "D = pml_depth\n",
    "\n",
    "sources = [\n",
    "    mp.Source(\n",
    "        mp.ContinuousSource(wavelength=lamd,),\n",
    "        component=mp.Hz, #  NOTE: Direction matters!\n",
    "        size=mp.Vector3(W - D * 2 , 0, 0),\n",
    "        center=mp.Vector3(0, H/2 - D - h * .5, 0)\n",
    "    )\n",
    "]"
   ]
  },
  {
   "cell_type": "code",
   "execution_count": null,
   "metadata": {},
   "outputs": [
    {
     "name": "stderr",
     "output_type": "stream",
     "text": [
      "Warning: grid volume is not an integer number of pixels; cell size will be rounded to nearest pixel.\n"
     ]
    }
   ],
   "source": [
    "geometry = []\n",
    "z = None\n",
    "def make_eps_function_at(center, size):\n",
    "    bins = np.linspace([-size.x/2,-size.y/2],[+size.x/2, +size.y/2],7)\n",
    "    def eps_function(p):\n",
    "#         # global z\n",
    "#         # z = p,center\n",
    "        x,y = p.x - center.x, p.y - center.y\n",
    "        x = np.digitize(x,bins[:,0],right=False)\n",
    "        y = np.digitize(y,bins[:,1],right=False)\n",
    "        x = np.clip(x, 1, 6) - 1\n",
    "        y = np.clip(y, 1, 6) - 1\n",
    "        eps_1 = 1 + k_0 * np.sin(vortex_rads[x,y]) ** 2 # first eps (for Ex)\n",
    "        eps_3 = 1 + k_0 * np.cos(vortex_rads[x,y]) ** 2 # middle eps (for Ey)\n",
    "        eps_4 = 1 # last eps (For Ez)\n",
    "        return mp.Medium(epsilon_diag=(eps_1, eps_3, eps_4))\n",
    "#         return mp.Medium(epsilon=1)\n",
    "    return eps_function\n",
    "\n",
    "for row in range(vortex_rows):\n",
    "    for col in range(vortex_cols):\n",
    "        size = mp.Vector3(h,h,0)\n",
    "        center = mp.Vector3(\n",
    "            D + h/2 + col * h - W / 2, D + h*1.5 + h*row - H/2, 0\n",
    "        )\n",
    "        bl = mp.Block(\n",
    "            size=size,\n",
    "            center=center,\n",
    "            # material=eps_function,\n",
    "            material=make_eps_function_at(center, size)\n",
    "        )\n",
    "        geometry.append(bl)\n",
    "\n",
    "pml_layers = [mp.PML(pml_size)]\n",
    "sim = mp.Simulation(\n",
    "    cell_size=cell,\n",
    "    boundary_layers=pml_layers,\n",
    "    geometry=geometry,\n",
    "    geometry_center=mp.Vector3(0,0,0),\n",
    "    sources=sources,\n",
    "    resolution=resolution,\n",
    "    Courant=courant,\n",
    "    eps_averaging=True,\n",
    ")\n",
    "# sim.run(until=1)\n",
    "\n",
    "plt.figure(dpi=200)\n",
    "plt.subplot(121)\n",
    "sim.plot2D()\n",
    "plt.show()"
   ]
  },
  {
   "cell_type": "code",
   "execution_count": null,
   "metadata": {},
   "outputs": [],
   "source": [
    "sim.init_sim()\n",
    "z = sim.get_epsilon()\n",
    "plt.figure(figsize=(15,7))\n",
    "plt.imshow(z)\n",
    "plt.colorbar()\n",
    "plt.savefig(\"media/eps_map.png\")"
   ]
  },
  {
   "cell_type": "markdown",
   "metadata": {},
   "source": [
    "## Animation"
   ]
  },
  {
   "cell_type": "code",
   "execution_count": null,
   "metadata": {},
   "outputs": [],
   "source": [
    "sim.reset_meep()\n",
    "f = plt.figure()\n",
    "anim = mp.Animate2D(sim, fields=mp.Hz, f=f, realtime=False, normalize=True)\n",
    "plt.close()"
   ]
  },
  {
   "cell_type": "code",
   "execution_count": null,
   "metadata": {},
   "outputs": [],
   "source": [
    "import os\n",
    "\n",
    "os.makedirs('outputs',exist_ok=True)\n",
    "!rm -rf eps*h5\n",
    "!rm -rf hz.h5\n",
    "vals = []\n",
    "\n",
    "def get_slice(sim):\n",
    "    vals.append(\n",
    "        sim.get_array(\n",
    "            center=mp.Vector3(0,0,0), \n",
    "            size=mp.Vector3(0,H,0),\n",
    "            component=mp.Hz\n",
    "        )\n",
    "    )\n",
    "\n",
    "sim.run(\n",
    "    # mp.at_beginning(mp.output_epsilon),\n",
    "    # mp.to_appended(\"hz\",mp.at_every(4, mp.output_hfield_z)),\n",
    "    mp.at_every(4,anim),\n",
    "    mp.at_every(100,get_slice),\n",
    "    until=1000,\n",
    ")"
   ]
  },
  {
   "cell_type": "code",
   "execution_count": null,
   "metadata": {},
   "outputs": [],
   "source": [
    "# plt.figure()\n",
    "# plt.imshow(vals, interpolation='spline36', cmap='RdBu')\n",
    "# plt.axis('off')\n",
    "# plt.show()"
   ]
  },
  {
   "cell_type": "code",
   "execution_count": null,
   "metadata": {},
   "outputs": [],
   "source": [
    "# !h5topng -t 0:125 \\\n",
    "# -R -Zc dkbluered \\\n",
    "# -a yarg \\\n",
    "# -A eps-000121.38.h5 hz.h5\n",
    "# !h5ls hz.h5"
   ]
  },
  {
   "cell_type": "code",
   "execution_count": null,
   "metadata": {},
   "outputs": [],
   "source": [
    "os.makedirs('media/',exist_ok=True)\n",
    "filename = f\"media/r{ratio:.3f}_h{vortex_rows}_phi{90}.mp4\"\n",
    "anim.to_mp4(10,filename)"
   ]
  },
  {
   "cell_type": "code",
   "execution_count": null,
   "metadata": {},
   "outputs": [],
   "source": [
    "from IPython.display import Video\n",
    "Video(filename)"
   ]
  }
 ],
 "metadata": {
  "interpreter": {
   "hash": "12a429ffe29a0f64df5aa4954fd4b4648ed045fc2c94e445d25cb41507d35ca7"
  },
  "kernelspec": {
   "display_name": "Python 3 (ipykernel)",
   "language": "python",
   "name": "python3"
  },
  "language_info": {
   "codemirror_mode": {
    "name": "ipython",
    "version": 3
   },
   "file_extension": ".py",
   "mimetype": "text/x-python",
   "name": "python",
   "nbconvert_exporter": "python",
   "pygments_lexer": "ipython3",
   "version": "3.7.13"
  }
 },
 "nbformat": 4,
 "nbformat_minor": 2
}
