{
 "cells": [
  {
   "cell_type": "code",
   "execution_count": 1,
   "metadata": {},
   "outputs": [
    {
     "name": "stdout",
     "output_type": "stream",
     "text": [
      "3.5.1\n"
     ]
    }
   ],
   "source": [
    "%load_ext autoreload\n",
    "%autoreload 2\n",
    "\n",
    "import meep as mp\n",
    "import numpy as np\n",
    "import matplotlib as mpl\n",
    "import matplotlib.pyplot as plt\n",
    "import math \n",
    "import seaborn as sns\n",
    "from itertools import product\n",
    "from math import pi\n",
    "print(mpl.__version__)"
   ]
  },
  {
   "cell_type": "code",
   "execution_count": 2,
   "metadata": {},
   "outputs": [],
   "source": [
    "# %conda install numpy matplotlib seaborn "
   ]
  },
  {
   "cell_type": "markdown",
   "metadata": {},
   "source": [
    "## Fields in a waveguide"
   ]
  },
  {
   "cell_type": "markdown",
   "metadata": {},
   "source": [
    "1) ერთი ვორტიქსის სიგრძე, ანუ ჩვენს შემთხვევაში კვადრატის სიგრძე, ანუ h არის დაახლოვებით 10 ნანომეტრი.\n",
    "\n",
    "2) Q პარამეტრი დაივიწყეთ. რაც გვიწერია სტატიაში omega/c*Q ეს იგივეა რაც h/lambda. lambda კი თავის მხრივ სიხშირეზეა დამოკიდებული.\n",
    "თუ მაგალითად აიღებთ ჩვენს შემთხვევაში როგორც ჩვენის შედეგების ნახაზზეა, მაგალითად, განუზომელ პარამეტრს 0.53, ეს ნიშნავს, რომ h/lambda=0.53\n",
    "ანუ თუ ვიცით, რომ  h=10 ნმ, ესეიგი ლამბდა არის 10/0.53=18.8679 ნმ. შესაბამისად შეგიძლიათ აქედან გაიგოთ სიხშირე, თუმცა არ მგონია რომ\n",
    "სიხშირის გაგება გჭირდებოდეთ, მგონია რომ პერიოდი და ტალღის სიგრძე საკმარისია. \n",
    "\n",
    "ჯერ ნახეთ  h/lambda=0.53 და  h/lambda=0.58, სადაც ნამდვილად გასვლა გვაქვს. ამას იმიტომ ვამბობ, რომ არეკვლის სიმძლავრე დამოკიდებულია\n",
    "ფენების რაოდენომაზე (როგორც ფოტონიკებში გვქონდა, 5-ს რომ ვიღებდით), შესაბამისად მე უნდა დავთვალო თქვენ რამდენ ფენასაც აიღებთ იქ\n",
    "რამდენად ძლიერი იქნება არეკვლა. არეკვლა რომ იქნება ცხადია, თუმცა რამდენად ძლიერი, შეიძლება ნაწილი გავიდეს. \n",
    "რაც შეეხება h/lambda=0.53 და  h/lambda=0.58 აქ სრული გასვლაა და პრობლემა არ არის. "
   ]
  },
  {
   "cell_type": "markdown",
   "metadata": {},
   "source": [
    "მარტივია, მაგრამ მაინც იხილეთ ბმული ფაილი. ამ მარტივი გარდაქმნით პირდაპირ გამოდის 9.21 ფორმულა.\n",
    "ანუ დროით ორმაგი წარმოებულები ჩაწერილი ამ ფორმით. აქედან პირდაპი 9.21.\n",
    "თუ ახლა, უბრალოდ შესამოწმებლად, დაუშვებთ რომ ომეგა_დ=0 (გამმა_დ ყოველთვის ნულია ჩვენთან რადგანაც მილევა არ გვაქვს),\n",
    "მიიღებთ დროის ყველა ეტაპზე ცნობილ დამოკიდებულებას D და E ვექტორებს შორის, კერძოდ D=eps_0*eps*E.\n",
    "მოკლედ მე თითქმის დარწმუნებული ვარ, რომ თუ თქვენ სწორედ \n",
    "გამოიყენებთ ამ 9.21 ფორმულას, უნდა გადაიჭრას ჩვენი პრობლემა. ასევე ყურადღება მიაქციეთ სულ ბოლო წინადადებას\n",
    "გაყვითლებული რომ მაქვს, სადაც რეალურად წერია რა მონაცემებით უნდა გააკეთოთ \"აპდეითი\" ახალი მონაცემების.\n",
    "მოკლედ ერთი დამეტებითი D ვექტორის შემოტანა მოგიწევთ.\n"
   ]
  },
  {
   "cell_type": "code",
   "execution_count": 3,
   "metadata": {},
   "outputs": [],
   "source": [
    "ratio = 0.255 # Should block on both 12 and 24"
   ]
  },
  {
   "cell_type": "code",
   "execution_count": 4,
   "metadata": {},
   "outputs": [
    {
     "name": "stdout",
     "output_type": "stream",
     "text": [
      "Resolution is 4/UOD, k_0 is -0.15379, min_eps 0.8462129950019224\n"
     ]
    }
   ],
   "source": [
    "# scale is nanometers\n",
    "# unit of distance is 1nm\n",
    "width = 1\n",
    "\n",
    "h = 10 # nanometers\n",
    "lamd = h / ratio # nanometers\n",
    "k_0 = - 0.01 * ((h/lamd) ** (-2)) # Used for eps hat calculation\n",
    "resolution = math.ceil(max(1 / (lamd / 10), 1 / (h / 36)))\n",
    "size_of_pixel = 1 / resolution\n",
    "vortex_rows = 12 * 2\n",
    "vortex_cols = vortex_rows // 2 # At least 2:1 ratio is needed\n",
    "\n",
    "pml_size = lamd * 0.50 + size_of_pixel\n",
    "pml_sep = size_of_pixel * 2\n",
    "pml_depth = pml_size + pml_sep # nm\n",
    "\n",
    "simulation_area = np.array([vortex_cols * h, (vortex_rows + 1) * h, 0])\n",
    "grid_size = simulation_area + [pml_depth * 2, pml_depth * 2, 0] # nm\n",
    "\n",
    "\n",
    "min_eps = min(abs(1 - k_0), abs(1 + k_0))\n",
    "courant_factor = 0.8\n",
    "courant = courant_factor * (min_eps ** .5) / (2 ** .5) # no dim. \n",
    "time_resolution = courant_factor * size_of_pixel\n",
    "\n",
    "# this is pixels per scale (nanometers here). \n",
    "# The vortices have size 10nmx10nm, and consist of \n",
    "# 6x6 cells. So, the resolution should be\n",
    "\n",
    "print(f'Resolution is {resolution}/UOD, k_0 is {k_0:.5f}, min_eps {min_eps}')"
   ]
  },
  {
   "cell_type": "code",
   "execution_count": 5,
   "metadata": {},
   "outputs": [
    {
     "data": {
      "text/plain": [
       "0.8462129950019224"
      ]
     },
     "execution_count": 5,
     "metadata": {},
     "output_type": "execute_result"
    }
   ],
   "source": [
    "1+k_0"
   ]
  },
  {
   "cell_type": "code",
   "execution_count": 6,
   "metadata": {},
   "outputs": [
    {
     "data": {
      "text/plain": [
       "0.2"
      ]
     },
     "execution_count": 6,
     "metadata": {},
     "output_type": "execute_result"
    }
   ],
   "source": [
    "time_resolution"
   ]
  },
  {
   "cell_type": "code",
   "execution_count": 7,
   "metadata": {},
   "outputs": [
    {
     "data": {
      "text/plain": [
       "Vector3<161.0, 291.0, 0.0>"
      ]
     },
     "execution_count": 7,
     "metadata": {},
     "output_type": "execute_result"
    }
   ],
   "source": [
    "cell = mp.Vector3(*grid_size.round())\n",
    "cell # nanometers"
   ]
  },
  {
   "cell_type": "code",
   "execution_count": 8,
   "metadata": {},
   "outputs": [
    {
     "data": {
      "text/plain": [
       "<AxesSubplot:>"
      ]
     },
     "execution_count": 8,
     "metadata": {},
     "output_type": "execute_result"
    },
    {
     "data": {
      "image/png": "[encoded data removed]",
      "text/plain": [
       "<Figure size 432x288 with 2 Axes>"
      ]
     },
     "metadata": {
      "needs_background": "light"
     },
     "output_type": "display_data"
    }
   ],
   "source": [
    "vortex_rads = np.zeros((6,6))\n",
    "d = 3\n",
    "for val in [pi * 1.5, pi, pi * .5, 0]:\n",
    "    for x,y in product(range(6), range(6)):\n",
    "        if y - d >= abs(x - d): \n",
    "            vortex_rads[x,y] = val\n",
    "    vortex_rads = np.rot90(vortex_rads)\n",
    "sns.heatmap(vortex_rads)"
   ]
  },
  {
   "cell_type": "code",
   "execution_count": 9,
   "metadata": {},
   "outputs": [],
   "source": [
    "from functools import partial\n",
    "mp.verbosity.set(0)\n",
    "\n",
    "W,H, _ = grid_size\n",
    "D = pml_depth\n",
    "\n",
    "sources = [\n",
    "    mp.Source(\n",
    "        mp.ContinuousSource(wavelength=lamd,width=100),\n",
    "        component=mp.Hz, #  NOTE: Direction matters!\n",
    "        size=mp.Vector3(W - D * 2 , 0, 0),\n",
    "        center=mp.Vector3(0, H/2 - D - h * .5, 0)\n",
    "    )\n",
    "]"
   ]
  },
  {
   "cell_type": "code",
   "execution_count": 10,
   "metadata": {},
   "outputs": [
    {
     "ename": "AttributeError",
     "evalue": "'int' object has no attribute 'epsilon_diag'",
     "output_type": "error",
     "traceback": [
      "\u001b[0;31m---------------------------------------------------------------------------\u001b[0m",
      "\u001b[0;31mAttributeError\u001b[0m                            Traceback (most recent call last)",
      "\u001b[0;31mAttributeError\u001b[0m: 'int' object has no attribute 'epsilon_diag'"
     ]
    },
    {
     "ename": "RuntimeError",
     "evalue": "meep: Error in typemaps",
     "output_type": "error",
     "traceback": [
      "\u001b[0;31m---------------------------------------------------------------------------\u001b[0m",
      "\u001b[0;31mRuntimeError\u001b[0m                              Traceback (most recent call last)",
      "\u001b[0;32m/tmp/ipykernel_22852/2726569661.py\u001b[0m in \u001b[0;36m<module>\u001b[0;34m\u001b[0m\n\u001b[1;32m     47\u001b[0m \u001b[0mplt\u001b[0m\u001b[0;34m.\u001b[0m\u001b[0mfigure\u001b[0m\u001b[0;34m(\u001b[0m\u001b[0mdpi\u001b[0m\u001b[0;34m=\u001b[0m\u001b[0;36m200\u001b[0m\u001b[0;34m)\u001b[0m\u001b[0;34m\u001b[0m\u001b[0;34m\u001b[0m\u001b[0m\n\u001b[1;32m     48\u001b[0m \u001b[0mplt\u001b[0m\u001b[0;34m.\u001b[0m\u001b[0msubplot\u001b[0m\u001b[0;34m(\u001b[0m\u001b[0;36m121\u001b[0m\u001b[0;34m)\u001b[0m\u001b[0;34m\u001b[0m\u001b[0;34m\u001b[0m\u001b[0m\n\u001b[0;32m---> 49\u001b[0;31m \u001b[0msim\u001b[0m\u001b[0;34m.\u001b[0m\u001b[0mplot2D\u001b[0m\u001b[0;34m(\u001b[0m\u001b[0;34m)\u001b[0m\u001b[0;34m\u001b[0m\u001b[0;34m\u001b[0m\u001b[0m\n\u001b[0m\u001b[1;32m     50\u001b[0m \u001b[0mplt\u001b[0m\u001b[0;34m.\u001b[0m\u001b[0mshow\u001b[0m\u001b[0;34m(\u001b[0m\u001b[0;34m)\u001b[0m\u001b[0;34m\u001b[0m\u001b[0;34m\u001b[0m\u001b[0m\n",
      "\u001b[0;32m~/.miniconda/envs/vortex/lib/python3.7/site-packages/meep/simulation.py\u001b[0m in \u001b[0;36mplot2D\u001b[0;34m(self, ax, output_plane, fields, labels, eps_parameters, boundary_parameters, source_parameters, monitor_parameters, field_parameters, frequency, plot_eps_flag, plot_sources_flag, plot_monitors_flag, plot_boundaries_flag, **kwargs)\u001b[0m\n\u001b[1;32m   4187\u001b[0m                           \u001b[0mplot_monitors_flag\u001b[0m\u001b[0;34m=\u001b[0m\u001b[0mplot_monitors_flag\u001b[0m\u001b[0;34m,\u001b[0m\u001b[0;34m\u001b[0m\u001b[0;34m\u001b[0m\u001b[0m\n\u001b[1;32m   4188\u001b[0m                           \u001b[0mplot_boundaries_flag\u001b[0m\u001b[0;34m=\u001b[0m\u001b[0mplot_boundaries_flag\u001b[0m\u001b[0;34m,\u001b[0m\u001b[0;34m\u001b[0m\u001b[0;34m\u001b[0m\u001b[0m\n\u001b[0;32m-> 4189\u001b[0;31m                           **kwargs)\n\u001b[0m\u001b[1;32m   4190\u001b[0m \u001b[0;34m\u001b[0m\u001b[0m\n\u001b[1;32m   4191\u001b[0m     \u001b[0;32mdef\u001b[0m \u001b[0mplot_fields\u001b[0m\u001b[0;34m(\u001b[0m\u001b[0mself\u001b[0m\u001b[0;34m,\u001b[0m \u001b[0;34m**\u001b[0m\u001b[0mkwargs\u001b[0m\u001b[0;34m)\u001b[0m\u001b[0;34m:\u001b[0m\u001b[0;34m\u001b[0m\u001b[0;34m\u001b[0m\u001b[0m\n",
      "\u001b[0;32m~/.miniconda/envs/vortex/lib/python3.7/site-packages/meep/visualization.py\u001b[0m in \u001b[0;36mplot2D\u001b[0;34m(sim, ax, output_plane, fields, labels, eps_parameters, boundary_parameters, source_parameters, monitor_parameters, field_parameters, frequency, plot_eps_flag, plot_sources_flag, plot_monitors_flag, plot_boundaries_flag)\u001b[0m\n\u001b[1;32m    603\u001b[0m     \u001b[0;32mif\u001b[0m \u001b[0mplot_eps_flag\u001b[0m\u001b[0;34m:\u001b[0m\u001b[0;34m\u001b[0m\u001b[0;34m\u001b[0m\u001b[0m\n\u001b[1;32m    604\u001b[0m         ax = plot_eps(sim, ax, output_plane=output_plane,\n\u001b[0;32m--> 605\u001b[0;31m                       eps_parameters=eps_parameters, frequency=frequency)\n\u001b[0m\u001b[1;32m    606\u001b[0m \u001b[0;34m\u001b[0m\u001b[0m\n\u001b[1;32m    607\u001b[0m     \u001b[0;31m# Plot boundaries\u001b[0m\u001b[0;34m\u001b[0m\u001b[0;34m\u001b[0m\u001b[0;34m\u001b[0m\u001b[0m\n",
      "\u001b[0;32m~/.miniconda/envs/vortex/lib/python3.7/site-packages/meep/visualization.py\u001b[0m in \u001b[0;36mplot_eps\u001b[0;34m(sim, ax, output_plane, eps_parameters, frequency)\u001b[0m\n\u001b[1;32m    407\u001b[0m         \u001b[0;32mraise\u001b[0m \u001b[0mValueError\u001b[0m\u001b[0;34m(\u001b[0m\u001b[0;34m\"A 2D plane has not been specified...\"\u001b[0m\u001b[0;34m)\u001b[0m\u001b[0;34m\u001b[0m\u001b[0;34m\u001b[0m\u001b[0m\n\u001b[1;32m    408\u001b[0m \u001b[0;34m\u001b[0m\u001b[0m\n\u001b[0;32m--> 409\u001b[0;31m     \u001b[0meps_data\u001b[0m \u001b[0;34m=\u001b[0m \u001b[0mnp\u001b[0m\u001b[0;34m.\u001b[0m\u001b[0mrot90\u001b[0m\u001b[0;34m(\u001b[0m\u001b[0mnp\u001b[0m\u001b[0;34m.\u001b[0m\u001b[0mreal\u001b[0m\u001b[0;34m(\u001b[0m\u001b[0msim\u001b[0m\u001b[0;34m.\u001b[0m\u001b[0mget_epsilon_grid\u001b[0m\u001b[0;34m(\u001b[0m\u001b[0mxtics\u001b[0m\u001b[0;34m,\u001b[0m \u001b[0mytics\u001b[0m\u001b[0;34m,\u001b[0m \u001b[0mztics\u001b[0m\u001b[0;34m,\u001b[0m \u001b[0meps_parameters\u001b[0m\u001b[0;34m[\u001b[0m\u001b[0;34m'frequency'\u001b[0m\u001b[0;34m]\u001b[0m\u001b[0;34m)\u001b[0m\u001b[0;34m)\u001b[0m\u001b[0;34m)\u001b[0m\u001b[0;34m\u001b[0m\u001b[0;34m\u001b[0m\u001b[0m\n\u001b[0m\u001b[1;32m    410\u001b[0m \u001b[0;34m\u001b[0m\u001b[0m\n\u001b[1;32m    411\u001b[0m     \u001b[0;32mif\u001b[0m \u001b[0mmp\u001b[0m\u001b[0;34m.\u001b[0m\u001b[0mam_master\u001b[0m\u001b[0;34m(\u001b[0m\u001b[0;34m)\u001b[0m\u001b[0;34m:\u001b[0m\u001b[0;34m\u001b[0m\u001b[0;34m\u001b[0m\u001b[0m\n",
      "\u001b[0;32m~/.miniconda/envs/vortex/lib/python3.7/site-packages/meep/simulation.py\u001b[0m in \u001b[0;36mget_epsilon_grid\u001b[0;34m(self, xtics, ytics, ztics, frequency)\u001b[0m\n\u001b[1;32m   2251\u001b[0m                              \u001b[0mlen\u001b[0m\u001b[0;34m(\u001b[0m\u001b[0mztics\u001b[0m\u001b[0;34m)\u001b[0m\u001b[0;34m,\u001b[0m \u001b[0mztics\u001b[0m\u001b[0;34m,\u001b[0m\u001b[0;34m\u001b[0m\u001b[0;34m\u001b[0m\u001b[0m\n\u001b[1;32m   2252\u001b[0m                              \u001b[0mgrid_vals\u001b[0m\u001b[0;34m,\u001b[0m\u001b[0;34m\u001b[0m\u001b[0;34m\u001b[0m\u001b[0m\n\u001b[0;32m-> 2253\u001b[0;31m                              frequency)\n\u001b[0m\u001b[1;32m   2254\u001b[0m         \u001b[0;32mreturn\u001b[0m \u001b[0mgrid_vals\u001b[0m\u001b[0;34m\u001b[0m\u001b[0;34m\u001b[0m\u001b[0m\n\u001b[1;32m   2255\u001b[0m \u001b[0;34m\u001b[0m\u001b[0m\n",
      "\u001b[0;32m~/.miniconda/envs/vortex/lib/python3.7/site-packages/meep/__init__.py\u001b[0m in \u001b[0;36m_get_epsilon_grid\u001b[0;34m(gobj_list, mlist, _default_material, _ensure_periodicity, gv, cell_size, cell_center, nx, xtics, ny, ytics, nz, ztics, grid_vals, frequency)\u001b[0m\n\u001b[1;32m   4470\u001b[0m \u001b[0;34m\u001b[0m\u001b[0m\n\u001b[1;32m   4471\u001b[0m \u001b[0;32mdef\u001b[0m \u001b[0m_get_epsilon_grid\u001b[0m\u001b[0;34m(\u001b[0m\u001b[0mgobj_list\u001b[0m\u001b[0;34m,\u001b[0m \u001b[0mmlist\u001b[0m\u001b[0;34m,\u001b[0m \u001b[0m_default_material\u001b[0m\u001b[0;34m,\u001b[0m \u001b[0m_ensure_periodicity\u001b[0m\u001b[0;34m,\u001b[0m \u001b[0mgv\u001b[0m\u001b[0;34m,\u001b[0m \u001b[0mcell_size\u001b[0m\u001b[0;34m,\u001b[0m \u001b[0mcell_center\u001b[0m\u001b[0;34m,\u001b[0m \u001b[0mnx\u001b[0m\u001b[0;34m,\u001b[0m \u001b[0mxtics\u001b[0m\u001b[0;34m,\u001b[0m \u001b[0mny\u001b[0m\u001b[0;34m,\u001b[0m \u001b[0mytics\u001b[0m\u001b[0;34m,\u001b[0m \u001b[0mnz\u001b[0m\u001b[0;34m,\u001b[0m \u001b[0mztics\u001b[0m\u001b[0;34m,\u001b[0m \u001b[0mgrid_vals\u001b[0m\u001b[0;34m,\u001b[0m \u001b[0mfrequency\u001b[0m\u001b[0;34m)\u001b[0m\u001b[0;34m:\u001b[0m\u001b[0;34m\u001b[0m\u001b[0;34m\u001b[0m\u001b[0m\n\u001b[0;32m-> 4472\u001b[0;31m     \u001b[0;32mreturn\u001b[0m \u001b[0m_meep\u001b[0m\u001b[0;34m.\u001b[0m\u001b[0m_get_epsilon_grid\u001b[0m\u001b[0;34m(\u001b[0m\u001b[0mgobj_list\u001b[0m\u001b[0;34m,\u001b[0m \u001b[0mmlist\u001b[0m\u001b[0;34m,\u001b[0m \u001b[0m_default_material\u001b[0m\u001b[0;34m,\u001b[0m \u001b[0m_ensure_periodicity\u001b[0m\u001b[0;34m,\u001b[0m \u001b[0mgv\u001b[0m\u001b[0;34m,\u001b[0m \u001b[0mcell_size\u001b[0m\u001b[0;34m,\u001b[0m \u001b[0mcell_center\u001b[0m\u001b[0;34m,\u001b[0m \u001b[0mnx\u001b[0m\u001b[0;34m,\u001b[0m \u001b[0mxtics\u001b[0m\u001b[0;34m,\u001b[0m \u001b[0mny\u001b[0m\u001b[0;34m,\u001b[0m \u001b[0mytics\u001b[0m\u001b[0;34m,\u001b[0m \u001b[0mnz\u001b[0m\u001b[0;34m,\u001b[0m \u001b[0mztics\u001b[0m\u001b[0;34m,\u001b[0m \u001b[0mgrid_vals\u001b[0m\u001b[0;34m,\u001b[0m \u001b[0mfrequency\u001b[0m\u001b[0;34m)\u001b[0m\u001b[0;34m\u001b[0m\u001b[0;34m\u001b[0m\u001b[0m\n\u001b[0m\u001b[1;32m   4473\u001b[0m \u001b[0;34m\u001b[0m\u001b[0m\n\u001b[1;32m   4474\u001b[0m \u001b[0;34m\u001b[0m\u001b[0m\n",
      "\u001b[0;31mRuntimeError\u001b[0m: meep: Error in typemaps"
     ]
    },
    {
     "data": {
      "image/png": "[encoded data removed]",
      "text/plain": [
       "<Figure size 1200x800 with 1 Axes>"
      ]
     },
     "metadata": {
      "needs_background": "light"
     },
     "output_type": "display_data"
    }
   ],
   "source": [
    "geometry = []\n",
    "z = None\n",
    "def make_eps_function_at(center, size):\n",
    "    bins = np.linspace([-size.x/2,-size.y/2],[+size.x/2, +size.y/2],7)\n",
    "    def eps_function(p):\n",
    "#         x,y = p.x - center.x, p.y - center.y\n",
    "#         x = np.digitize(x,bins[:,0],right=False)\n",
    "#         y = np.digitize(y,bins[:,1],right=False)\n",
    "#         x = np.clip(x, 1, 6) - 1\n",
    "#         y = np.clip(y, 1, 6) - 1\n",
    "#         eps_1 = 1 + k_0 * np.sin(vortex_rads[x,y]) ** 2 # first eps (for Ex)\n",
    "#         eps_3 = 1 + k_0 * np.cos(vortex_rads[x,y]) ** 2 # middle eps (for Ey)\n",
    "#         eps_4 = 1 # last eps (For Ez)\n",
    "        return mp.Medium(epsilon_diag=(eps_1, eps_3, eps_4))\n",
    "#         return mp.Medium(epsilon=1)\n",
    "    return eps_function\n",
    "\n",
    "for row in range(vortex_rows):\n",
    "    for col in range(vortex_cols):\n",
    "        if row % 2 == 0: # Leave out air between rows\n",
    "            size = mp.Vector3(h,h,0)\n",
    "            center = mp.Vector3(\n",
    "                x=D + h / 2 + col * h - W / 2,\n",
    "                y=D + h * 1.5 + row * h - H / 2, \n",
    "                z=0\n",
    "            )\n",
    "            bl = mp.Block(\n",
    "                size=size,\n",
    "                center=center,\n",
    "                material=make_eps_function_at(center, size)\n",
    "            )\n",
    "            geometry.append(bl)\n",
    "\n",
    "pml_layers = [mp.PML(pml_size)]\n",
    "sim = mp.Simulation(\n",
    "    cell_size=cell,\n",
    "    boundary_layers=pml_layers,\n",
    "    geometry=geometry,\n",
    "    geometry_center=mp.Vector3(0,0,0),\n",
    "    sources=sources,\n",
    "    resolution=resolution,\n",
    "    Courant=courant,\n",
    "    eps_averaging=True,\n",
    ")\n",
    "# sim.run(until=1)\n",
    "\n",
    "plt.figure(dpi=200)\n",
    "plt.subplot(121)\n",
    "sim.plot2D()\n",
    "plt.show()"
   ]
  },
  {
   "cell_type": "code",
   "execution_count": null,
   "metadata": {},
   "outputs": [],
   "source": [
    "import os\n",
    "sim.init_sim()\n",
    "z = sim.get_epsilon()\n",
    "plt.figure(figsize=(15,7))\n",
    "plt.imshow(z)\n",
    "plt.colorbar()\n",
    "os.makedirs('media', exist_ok=True)\n",
    "plt.savefig(\"media/eps_map.png\")"
   ]
  },
  {
   "cell_type": "code",
   "execution_count": null,
   "metadata": {},
   "outputs": [],
   "source": [
    "plt.imshow(z[75:130,193:290])"
   ]
  },
  {
   "cell_type": "markdown",
   "metadata": {},
   "source": [
    "## Animation"
   ]
  },
  {
   "cell_type": "code",
   "execution_count": null,
   "metadata": {},
   "outputs": [],
   "source": [
    "# sim.reset_meep()\n",
    "f = plt.figure()\n",
    "anim = mp.Animate2D(sim, fields=mp.Hz, f=f, realtime=False, normalize=True)\n",
    "plt.close()"
   ]
  },
  {
   "cell_type": "code",
   "execution_count": null,
   "metadata": {},
   "outputs": [],
   "source": [
    "import os\n",
    "\n",
    "os.makedirs('outputs',exist_ok=True)\n",
    "!rm -rf eps*h5\n",
    "!rm -rf hz.h5\n",
    "vals = []\n",
    "\n",
    "def get_slice(sim):\n",
    "    vals.append(\n",
    "        sim.get_array(\n",
    "            center=mp.Vector3(0,0,0), \n",
    "            size=mp.Vector3(0,H,0),\n",
    "            component=mp.Hz\n",
    "        )\n",
    "    )\n",
    "\n",
    "sim.run(\n",
    "    # mp.at_beginning(mp.output_epsilon),\n",
    "    # mp.to_appended(\"hz\",mp.at_every(4, mp.output_hfield_z)),\n",
    "#     mp.at_every(40,anim),\n",
    "    mp.at_every(499,get_slice),\n",
    "    until=1000,\n",
    ")"
   ]
  },
  {
   "cell_type": "code",
   "execution_count": null,
   "metadata": {},
   "outputs": [],
   "source": [
    "plt.plot(vals[1])\n",
    "plt.title(f'ratio {ratio} with {vortex_rows // 2} row free space')\n",
    "plt.show()"
   ]
  },
  {
   "cell_type": "code",
   "execution_count": null,
   "metadata": {},
   "outputs": [],
   "source": [
    "STOP"
   ]
  },
  {
   "cell_type": "code",
   "execution_count": null,
   "metadata": {},
   "outputs": [],
   "source": [
    "plt.plot(vals[1])\n",
    "plt.title(f'ratio {ratio} with {vortex_rows // 2} row structure')\n",
    "plt.show()"
   ]
  },
  {
   "cell_type": "code",
   "execution_count": null,
   "metadata": {},
   "outputs": [],
   "source": [
    "# plt.figure()\n",
    "# plt.imshow(vals, interpolation='spline36', cmap='RdBu')\n",
    "# plt.axis('off')\n",
    "# plt.show()"
   ]
  },
  {
   "cell_type": "code",
   "execution_count": null,
   "metadata": {},
   "outputs": [],
   "source": [
    "# !h5topng -t 0:125 \\\n",
    "# -R -Zc dkbluered \\\n",
    "# -a yarg \\\n",
    "# -A eps-000121.38.h5 hz.h5\n",
    "# !h5ls hz.h5"
   ]
  },
  {
   "cell_type": "code",
   "execution_count": null,
   "metadata": {},
   "outputs": [],
   "source": [
    "os.makedirs('media/',exist_ok=True)\n",
    "filename = f\"media/r{ratio:.3f}_h{vortex_rows}_phi{90}.mp4\"\n",
    "anim.to_mp4(10,filename)"
   ]
  },
  {
   "cell_type": "code",
   "execution_count": null,
   "metadata": {},
   "outputs": [],
   "source": [
    "from IPython.display import Video\n",
    "Video(filename)"
   ]
  },
  {
   "cell_type": "code",
   "execution_count": null,
   "metadata": {},
   "outputs": [],
   "source": []
  }
 ],
 "metadata": {
  "interpreter": {
   "hash": "12a429ffe29a0f64df5aa4954fd4b4648ed045fc2c94e445d25cb41507d35ca7"
  },
  "kernelspec": {
   "display_name": "Python 3 (ipykernel)",
   "language": "python",
   "name": "python3"
  },
  "language_info": {
   "codemirror_mode": {
    "name": "ipython",
    "version": 3
   },
   "file_extension": ".py",
   "mimetype": "text/x-python",
   "name": "python",
   "nbconvert_exporter": "python",
   "pygments_lexer": "ipython3",
   "version": "3.7.13"
  }
 },
 "nbformat": 4,
 "nbformat_minor": 2
}
